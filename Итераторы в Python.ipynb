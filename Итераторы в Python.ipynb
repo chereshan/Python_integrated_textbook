{
 "cells": [
  {
   "cell_type": "markdown",
   "id": "001225e2",
   "metadata": {},
   "source": [
    "**Источники:**\n",
    "1. [**Stepik**: основы и применение. Итераторы](https://stepik.org/lesson/24464/step/1?unit=6769)\n",
    "2. [Python. К вершинам мастерства: гл. 2, гл. 12, гл. 17](file:///C:/Users/79618/Desktop/Python/%D0%9E%D0%B1%D1%89%D0%B8%D0%B9%20Python/%D0%9B%D1%83%D1%81%D0%B8%D0%B0%D0%BD%D1%83%20%D0%A0%D0%B0%D0%BC%D0%B0%D0%BB%D1%8C%D0%BE%20-%20Python%20%E2%80%93%20%D0%BA%20%D0%B2%D0%B5%D1%80%D1%88%D0%B8%D0%BD%D0%B0%D0%BC%20%D0%BC%D0%B0%D1%81%D1%82%D0%B5%D1%80%D1%81%D1%82%D0%B2%D0%B0_%20%D0%9B%D0%B0%D0%BA%D0%BE%D0%BD%D0%B8%D1%87%D0%BD%D0%BE%D0%B5%20%D0%B8%20%D1%8D%D1%84%D1%84%D0%B5%D0%BA%D1%82%D0%B8%D0%B2%D0%BD%D0%BE%D0%B5%20%D0%BF%D1%80%D0%BE%D0%B3%D1%80%D0%B0%D0%BC%D0%BC%D0%B8%D1%80%D0%BE%D0%B2%D0%B0%D0%BD%D0%B8%D0%B5%20(2022,%20%D0%94%D0%9C%D0%9A%20%D0%9F%D1%80%D0%B5%D1%81%D1%81)%20-%20libgen.li.pdf)\n",
    "3. [Python. Книга рецептов .Глава 4. Итераторы и генераторы](file:///C:/Users/79618/Desktop/Python/%D0%9E%D0%B1%D1%89%D0%B8%D0%B9%20Python/%D0%94%D1%8D%D0%B2%D0%B8%D0%B4%20%D0%91%D0%B8%D0%B7%D0%BB%D0%B8,%20%D0%91%D1%80%D0%B0%D0%B9%D0%B0%D0%BD%20%D0%9A.%20%D0%94%D0%B6%D0%BE%D0%BD%D1%81%20-%20Python.%20%D0%9A%D0%BD%D0%B8%D0%B3%D0%B0%20%D1%80%D0%B5%D1%86%D0%B5%D0%BF%D1%82%D0%BE%D0%B2%20(2019,%20%D0%94%D0%9C%D0%9A%20%D0%9F%D1%80%D0%B5%D1%81%D1%81)%20-%20libgen.li.pdf)"
   ]
  },
  {
   "cell_type": "markdown",
   "id": "35679620",
   "metadata": {},
   "source": [
    "# Протокол итерации"
   ]
  },
  {
   "cell_type": "markdown",
   "id": "98c209a8",
   "metadata": {},
   "source": [
    "``for`` работает с любым типом последовательности: списки, кортежи, строки."
   ]
  },
  {
   "cell_type": "code",
   "execution_count": 1,
   "id": "e1d6f6ca",
   "metadata": {},
   "outputs": [
    {
     "name": "stdout",
     "output_type": "stream",
     "text": [
      "1 4 9 16 "
     ]
    }
   ],
   "source": [
    "for x in [1, 2, 3, 4] : print(x ** 2, end=' ')"
   ]
  },
  {
   "cell_type": "code",
   "execution_count": 2,
   "id": "1452d96c",
   "metadata": {},
   "outputs": [
    {
     "name": "stdout",
     "output_type": "stream",
     "text": [
      "1 4 9 16 "
     ]
    }
   ],
   "source": [
    "for x in (1, 2, 3, 4) : print(x ** 2, end=' ')"
   ]
  },
  {
   "cell_type": "code",
   "execution_count": 3,
   "id": "d62f6f56",
   "metadata": {},
   "outputs": [
    {
     "name": "stdout",
     "output_type": "stream",
     "text": [
      "ss pp aa mm "
     ]
    }
   ],
   "source": [
    "for x in 'spam' : print(x *2, end=' ')"
   ]
  },
  {
   "cell_type": "markdown",
   "id": "928d60ef",
   "metadata": {},
   "source": [
    "Более того, ``for`` работате с любым итерируемым объектом. Объект считается **итерируемым**, если он является или физически хранящейся последовательностью, или объектом, который производит по одному результату за раз в контексте итерационного инструмента, подобного циклу ``for``."
   ]
  },
  {
   "cell_type": "markdown",
   "id": "12c699ca",
   "metadata": {},
   "source": [
    "**Итератор** - объект, который возвращается вызовом ``iter`` на итерируемом объекте и поддерживает вызов ``next(I)``."
   ]
  },
  {
   "cell_type": "code",
   "execution_count": 4,
   "id": "a8cf24d4",
   "metadata": {},
   "outputs": [
    {
     "name": "stdout",
     "output_type": "stream",
     "text": [
      "China\t1368050000\n",
      "India\t1266480000\n",
      "United States\t320341000\n",
      "Indonesia\t255461700\n",
      "Brazil\t203841000\n",
      "Pakistan\t188894000\n",
      "Nigeria\t183523000\n",
      "Bangladesh\t157784000\n",
      "Russia\t146270033\n",
      "Japan\t127020000\n",
      "Mexico\t121005815\n",
      "Philippines\t100959800\n",
      "Vietnam\t90730000\n",
      "Ethiopia\t90076012\n",
      "Egypt\t87965900\n",
      "Germany\t80767000\n",
      "Iran\t78096500\n",
      "Turkey\t77695904\n",
      "Democratic Republic of the Congo\t71246000\n",
      "France\t66092000\n",
      "Thailand\t64871000\n",
      "United Kingdom\t64105654\n",
      "Italy\t60782897\n",
      "South Africa\t54002000\n",
      "Burma\t51419420\n",
      "South Korea\t50423955\n",
      "Colombia\t47984800\n",
      "Tanzania\t47421786\n",
      "Kenya\t46749000\n",
      "Spain\t46464053\n",
      "Argentina\t43131966\n",
      "Ukraine\t42953889\n",
      "Algeria\t39500000\n",
      "Poland\t38496000\n",
      "Sudan\t38435252\n",
      "Iraq\t36004552\n",
      "Canada\t35675834\n",
      "Uganda\t34856813\n",
      "Morocco\t33516100\n",
      "Saudi Arabia\t31521418\n",
      "Peru\t31151643\n",
      "Venezuela\t30620404\n",
      "Uzbekistan\t30492800\n",
      "Malaysia\t30483800\n",
      "Nepal\t28037904\n",
      "Ghana\t27043093\n",
      "Afghanistan\t26556800\n",
      "Yemen\t25956000\n",
      "Mozambique\t25727911\n",
      "North Korea\t25155000\n",
      "Angola\t24383301\n",
      "Australia\t23735500\n",
      "Taiwan\t23433753\n",
      "Ivory Coast\t22671331\n",
      "Syria\t22265000\n",
      "Madagascar\t21842167\n",
      "Cameroon\t21143237\n",
      "Sri Lanka\t20359439\n",
      "Romania\t19942642\n",
      "Niger\t19268000\n",
      "Chile\t18006407\n",
      "Kazakhstan\t17397200\n",
      "Burkina Faso\t17322796\n",
      "Netherlands\t16888500\n",
      "Malawi\t16310431\n",
      "Mali\t16259000\n",
      "Ecuador\t15925700\n",
      "Guatemala\t15806675\n",
      "Zambia\t15473905\n",
      "Cambodia\t15405157\n",
      "Chad\t13606000\n",
      "Senegal\t13508715\n",
      "Zimbabwe\t13061239\n",
      "South Sudan\t11892934\n",
      "Bolivia\t11410651\n",
      "Belgium\t11233192\n",
      "Cuba\t11210064\n",
      "Somalia\t11123000\n",
      "Rwanda\t10996891\n",
      "Greece\t10992589\n",
      "Tunisia\t10982754\n",
      "Haiti\t10911819\n",
      "Guinea\t10628972\n",
      "Czech Republic\t10521600\n",
      "Portugal\t10477800\n",
      "Dominican Republic\t10378267\n",
      "Benin\t10315244\n",
      "Hungary\t9879000\n",
      "Burundi\t9823827\n",
      "Sweden\t9743087\n",
      "Azerbaijan\t9583200\n",
      "United Arab Emirates\t9577000\n",
      "Belarus\t9481000\n",
      "Honduras\t8725111\n",
      "Austria\t8572895\n",
      "Israel\t8296000\n",
      "Switzerland\t8211700\n",
      "Tajikistan\t8161000\n",
      "Papua New Guinea\t7398500\n",
      "Bulgaria\t7245677\n",
      "Hong Kong (China)\t7234800\n",
      "Togo\t7171000\n",
      "Serbia\t7146759\n",
      "Paraguay\t6893727\n",
      "Laos\t6802000\n",
      "Eritrea\t6738000\n",
      "Jordan\t6687470\n",
      "El Salvador\t6401240\n",
      "Sierra Leone\t6319000\n",
      "Libya\t6317000\n",
      "Nicaragua\t6134270\n",
      "Turkmenistan\t5888000\n",
      "Kyrgyzstan\t5874100\n",
      "Denmark\t5655750\n",
      "Finland\t5475526\n",
      "Singapore\t5469700\n",
      "Slovakia\t5421034\n",
      "Norway\t5156450\n",
      "Central African Republic\t4803000\n",
      "Costa Rica\t4773130\n",
      "Republic of the Congo\t4671000\n",
      "Ireland\t4609600\n",
      "New Zealand\t4559890\n",
      "Palestine\t4550368\n",
      "Liberia\t4503000\n",
      "Georgia\t4490500\n",
      "Croatia\t4267558\n",
      "Lebanon\t4104000\n",
      "Oman\t4099904\n",
      "Bosnia and Herzegovina\t3791622\n",
      "Panama\t3713312\n",
      "Moldova\t3557600\n",
      "Puerto Rico (U.S.)\t3548397\n",
      "Mauritania\t3545620\n",
      "Uruguay\t3404189\n",
      "Kuwait\t3268431\n",
      "Armenia\t3013900\n",
      "Mongolia\t3000000\n",
      "Lithuania\t2921920\n",
      "Albania\t2895947\n",
      "Jamaica\t2717991\n",
      "Qatar\t2235431\n",
      "Lesotho\t2120000\n",
      "Namibia\t2113077\n",
      "Macedonia\t2065769\n",
      "Slovenia\t2065549\n",
      "Botswana\t2024904\n",
      "Latvia\t1988400\n",
      "The Gambia\t1882450\n",
      "Kosovo\t1816891\n",
      "Guinea-Bissau\t1788000\n",
      "Gabon\t1751000\n",
      "Equatorial Guinea\t1430000\n",
      "Trinidad and Tobago\t1328019\n",
      "Bahrain\t1316500\n",
      "Estonia\t1312252\n",
      "Mauritius\t1261208\n",
      "East Timor\t1212107\n",
      "Swaziland\t1106189\n",
      "Djibouti\t900000\n",
      "Fiji\t859178\n",
      "Cyprus\t858000\n",
      "Reunion (France)\t840974\n",
      "Comoros\t763952\n",
      "Bhutan\t756940\n",
      "Guyana\t746900\n",
      "Macau (China)\t631000\n",
      "Montenegro\t620029\n",
      "Western Sahara\t604000\n",
      "Solomon Islands\t581344\n",
      "Luxembourg\t549700\n",
      "Suriname\t534189\n",
      "Cape Verde\t518467\n",
      "Transnistria\t505153\n",
      "Malta\t416055\n",
      "Guadeloupe (France)\t405739\n",
      "Brunei\t393372\n",
      "Martinique (France)\t386486\n",
      "The Bahamas\t368390\n",
      "Belize\t349728\n",
      "Maldives\t341256\n",
      "Iceland\t328170\n",
      "Northern Cyprus\t294906\n",
      "Barbados\t285000\n",
      "New Caledonia (France)\t268767\n",
      "French Polynesia (France)\t268270\n",
      "Vanuatu\t264652\n",
      "Abkhazia\t240705\n",
      "French Guiana (France)\t239648\n",
      "Mayotte (France)\t212645\n",
      "Samoa\t187820\n",
      "Sao Tome and Principe\t187356\n",
      "Saint Lucia\t185000\n",
      "Guam (U.S.)\t159358\n",
      "Curacao (Netherlands)\t154843\n",
      "Saint Vincent and the Grenadines\t109000\n",
      "Aruba (Netherlands)\t107394\n",
      "Kiribati\t106461\n",
      "United States Virgin Islands (U.S.)\t106405\n",
      "Grenada\t103328\n",
      "Tonga\t103252\n",
      "Federated States of Micronesia\t101351\n",
      "Jersey (UK)\t99000\n",
      "Seychelles\t89949\n",
      "Antigua and Barbuda\t86295\n",
      "Isle of Man (UK)\t84497\n",
      "Andorra\t76949\n",
      "Dominica\t71293\n",
      "Bermuda (UK)\t64237\n",
      "Guernsey (UK)\t63085\n",
      "Greenland (Denmark)\t56295\n",
      "Marshall Islands\t56086\n",
      "Cayman Islands (UK)\t55691\n",
      "American Samoa (U.S.)\t55519\n",
      "Saint Kitts and Nevis\t55000\n",
      "Northern Mariana Islands (U.S.)\t53883\n",
      "South Ossetia[24]\t51547\n",
      "Faroe Islands (Denmark)\t48605\n",
      "Sint Maarten (Netherlands)\t37429\n",
      "Liechtenstein\t37132\n",
      "Monaco\t36950\n",
      "Collectivity of Saint Martin (France)\t35742\n",
      "San Marino\t32777\n",
      "Turks and Caicos Islands (UK)\t31458\n",
      "Gibraltar (UK)\t30001\n",
      "Aland Islands (Finland)\t28875\n",
      "British Virgin Islands (UK)\t28054\n",
      "Caribbean Netherlands (Netherlands)\t23296\n",
      "Palau\t20901\n",
      "Cook Islands (New Zealand)\t14974\n",
      "Anguilla (UK)\t13452\n",
      "Wallis and Futuna (France)\t13135\n",
      "Tuvalu\t11323\n",
      "Nauru\t10084\n",
      "Saint Barthelemy (France)\t9131\n",
      "Saint Pierre and Miquelon (France)\t6069\n",
      "Montserrat (UK)\t4922\n",
      "Saint Helena, Ascension and Tristan da Cunha (UK)\t4000\n",
      "Falkland Islands (UK)\t3000\n",
      "Svalbard and Jan Mayen (Norway)\t2562\n",
      "Norfolk Island (Australia)\t2302\n",
      "Christmas Island (Australia)\t2072\n",
      "Niue (New Zealand)\t1613\n",
      "Tokelau (NZ)\t1411\n",
      "Vatican City\t839\n",
      "Cocos (Keeling) Islands (Australia)\t550\n",
      "Pitcairn Islands (UK)\t56\n",
      "\n"
     ]
    }
   ],
   "source": [
    "print(open(r'C:\\Users\\79618\\Downloads\\population.txt').read())"
   ]
  },
  {
   "cell_type": "code",
   "execution_count": 5,
   "id": "0c87a8f7",
   "metadata": {},
   "outputs": [
    {
     "name": "stdout",
     "output_type": "stream",
     "text": [
      "China\t1368050000\n",
      "\n",
      "India\t1266480000\n",
      "\n",
      "United States\t320341000\n",
      "\n"
     ]
    }
   ],
   "source": [
    "f=open(r'C:\\Users\\79618\\Downloads\\population.txt')\n",
    "print(f.readline())\n",
    "print(f.readline())\n",
    "print(f.__next__())"
   ]
  },
  {
   "cell_type": "markdown",
   "id": "1bb24bca",
   "metadata": {},
   "source": [
    "**Итератором** считается любой объект с методом ``__next__`` для перехода на следующий результат, который генерирует исключение ``StopIteration`` при достижении конца серии результатов"
   ]
  },
  {
   "cell_type": "markdown",
   "id": "0ead4951",
   "metadata": {},
   "source": [
    "Бэкэнд ``for`` как раз в вызове метода ``__next__`` для перехода к следующей итерации и остановки если имеет место исключение ``StopIteration``."
   ]
  },
  {
   "cell_type": "code",
   "execution_count": 6,
   "id": "0c3b2f75",
   "metadata": {},
   "outputs": [
    {
     "name": "stdout",
     "output_type": "stream",
     "text": [
      "CHINA\t1368050000\n",
      "INDIA\t1266480000\n",
      "UNITED STATES\t320341000\n",
      "INDONESIA\t255461700\n",
      "BRAZIL\t203841000\n",
      "PAKISTAN\t188894000\n",
      "NIGERIA\t183523000\n",
      "BANGLADESH\t157784000\n",
      "RUSSIA\t146270033\n",
      "JAPAN\t127020000\n",
      "MEXICO\t121005815\n",
      "PHILIPPINES\t100959800\n",
      "VIETNAM\t90730000\n",
      "ETHIOPIA\t90076012\n",
      "EGYPT\t87965900\n",
      "GERMANY\t80767000\n",
      "IRAN\t78096500\n",
      "TURKEY\t77695904\n",
      "DEMOCRATIC REPUBLIC OF THE CONGO\t71246000\n",
      "FRANCE\t66092000\n",
      "THAILAND\t64871000\n",
      "UNITED KINGDOM\t64105654\n",
      "ITALY\t60782897\n",
      "SOUTH AFRICA\t54002000\n",
      "BURMA\t51419420\n",
      "SOUTH KOREA\t50423955\n",
      "COLOMBIA\t47984800\n",
      "TANZANIA\t47421786\n",
      "KENYA\t46749000\n",
      "SPAIN\t46464053\n",
      "ARGENTINA\t43131966\n",
      "UKRAINE\t42953889\n",
      "ALGERIA\t39500000\n",
      "POLAND\t38496000\n",
      "SUDAN\t38435252\n",
      "IRAQ\t36004552\n",
      "CANADA\t35675834\n",
      "UGANDA\t34856813\n",
      "MOROCCO\t33516100\n",
      "SAUDI ARABIA\t31521418\n",
      "PERU\t31151643\n",
      "VENEZUELA\t30620404\n",
      "UZBEKISTAN\t30492800\n",
      "MALAYSIA\t30483800\n",
      "NEPAL\t28037904\n",
      "GHANA\t27043093\n",
      "AFGHANISTAN\t26556800\n",
      "YEMEN\t25956000\n",
      "MOZAMBIQUE\t25727911\n",
      "NORTH KOREA\t25155000\n",
      "ANGOLA\t24383301\n",
      "AUSTRALIA\t23735500\n",
      "TAIWAN\t23433753\n",
      "IVORY COAST\t22671331\n",
      "SYRIA\t22265000\n",
      "MADAGASCAR\t21842167\n",
      "CAMEROON\t21143237\n",
      "SRI LANKA\t20359439\n",
      "ROMANIA\t19942642\n",
      "NIGER\t19268000\n",
      "CHILE\t18006407\n",
      "KAZAKHSTAN\t17397200\n",
      "BURKINA FASO\t17322796\n",
      "NETHERLANDS\t16888500\n",
      "MALAWI\t16310431\n",
      "MALI\t16259000\n",
      "ECUADOR\t15925700\n",
      "GUATEMALA\t15806675\n",
      "ZAMBIA\t15473905\n",
      "CAMBODIA\t15405157\n",
      "CHAD\t13606000\n",
      "SENEGAL\t13508715\n",
      "ZIMBABWE\t13061239\n",
      "SOUTH SUDAN\t11892934\n",
      "BOLIVIA\t11410651\n",
      "BELGIUM\t11233192\n",
      "CUBA\t11210064\n",
      "SOMALIA\t11123000\n",
      "RWANDA\t10996891\n",
      "GREECE\t10992589\n",
      "TUNISIA\t10982754\n",
      "HAITI\t10911819\n",
      "GUINEA\t10628972\n",
      "CZECH REPUBLIC\t10521600\n",
      "PORTUGAL\t10477800\n",
      "DOMINICAN REPUBLIC\t10378267\n",
      "BENIN\t10315244\n",
      "HUNGARY\t9879000\n",
      "BURUNDI\t9823827\n",
      "SWEDEN\t9743087\n",
      "AZERBAIJAN\t9583200\n",
      "UNITED ARAB EMIRATES\t9577000\n",
      "BELARUS\t9481000\n",
      "HONDURAS\t8725111\n",
      "AUSTRIA\t8572895\n",
      "ISRAEL\t8296000\n",
      "SWITZERLAND\t8211700\n",
      "TAJIKISTAN\t8161000\n",
      "PAPUA NEW GUINEA\t7398500\n",
      "BULGARIA\t7245677\n",
      "HONG KONG (CHINA)\t7234800\n",
      "TOGO\t7171000\n",
      "SERBIA\t7146759\n",
      "PARAGUAY\t6893727\n",
      "LAOS\t6802000\n",
      "ERITREA\t6738000\n",
      "JORDAN\t6687470\n",
      "EL SALVADOR\t6401240\n",
      "SIERRA LEONE\t6319000\n",
      "LIBYA\t6317000\n",
      "NICARAGUA\t6134270\n",
      "TURKMENISTAN\t5888000\n",
      "KYRGYZSTAN\t5874100\n",
      "DENMARK\t5655750\n",
      "FINLAND\t5475526\n",
      "SINGAPORE\t5469700\n",
      "SLOVAKIA\t5421034\n",
      "NORWAY\t5156450\n",
      "CENTRAL AFRICAN REPUBLIC\t4803000\n",
      "COSTA RICA\t4773130\n",
      "REPUBLIC OF THE CONGO\t4671000\n",
      "IRELAND\t4609600\n",
      "NEW ZEALAND\t4559890\n",
      "PALESTINE\t4550368\n",
      "LIBERIA\t4503000\n",
      "GEORGIA\t4490500\n",
      "CROATIA\t4267558\n",
      "LEBANON\t4104000\n",
      "OMAN\t4099904\n",
      "BOSNIA AND HERZEGOVINA\t3791622\n",
      "PANAMA\t3713312\n",
      "MOLDOVA\t3557600\n",
      "PUERTO RICO (U.S.)\t3548397\n",
      "MAURITANIA\t3545620\n",
      "URUGUAY\t3404189\n",
      "KUWAIT\t3268431\n",
      "ARMENIA\t3013900\n",
      "MONGOLIA\t3000000\n",
      "LITHUANIA\t2921920\n",
      "ALBANIA\t2895947\n",
      "JAMAICA\t2717991\n",
      "QATAR\t2235431\n",
      "LESOTHO\t2120000\n",
      "NAMIBIA\t2113077\n",
      "MACEDONIA\t2065769\n",
      "SLOVENIA\t2065549\n",
      "BOTSWANA\t2024904\n",
      "LATVIA\t1988400\n",
      "THE GAMBIA\t1882450\n",
      "KOSOVO\t1816891\n",
      "GUINEA-BISSAU\t1788000\n",
      "GABON\t1751000\n",
      "EQUATORIAL GUINEA\t1430000\n",
      "TRINIDAD AND TOBAGO\t1328019\n",
      "BAHRAIN\t1316500\n",
      "ESTONIA\t1312252\n",
      "MAURITIUS\t1261208\n",
      "EAST TIMOR\t1212107\n",
      "SWAZILAND\t1106189\n",
      "DJIBOUTI\t900000\n",
      "FIJI\t859178\n",
      "CYPRUS\t858000\n",
      "REUNION (FRANCE)\t840974\n",
      "COMOROS\t763952\n",
      "BHUTAN\t756940\n",
      "GUYANA\t746900\n",
      "MACAU (CHINA)\t631000\n",
      "MONTENEGRO\t620029\n",
      "WESTERN SAHARA\t604000\n",
      "SOLOMON ISLANDS\t581344\n",
      "LUXEMBOURG\t549700\n",
      "SURINAME\t534189\n",
      "CAPE VERDE\t518467\n",
      "TRANSNISTRIA\t505153\n",
      "MALTA\t416055\n",
      "GUADELOUPE (FRANCE)\t405739\n",
      "BRUNEI\t393372\n",
      "MARTINIQUE (FRANCE)\t386486\n",
      "THE BAHAMAS\t368390\n",
      "BELIZE\t349728\n",
      "MALDIVES\t341256\n",
      "ICELAND\t328170\n",
      "NORTHERN CYPRUS\t294906\n",
      "BARBADOS\t285000\n",
      "NEW CALEDONIA (FRANCE)\t268767\n",
      "FRENCH POLYNESIA (FRANCE)\t268270\n",
      "VANUATU\t264652\n",
      "ABKHAZIA\t240705\n",
      "FRENCH GUIANA (FRANCE)\t239648\n",
      "MAYOTTE (FRANCE)\t212645\n",
      "SAMOA\t187820\n",
      "SAO TOME AND PRINCIPE\t187356\n",
      "SAINT LUCIA\t185000\n",
      "GUAM (U.S.)\t159358\n",
      "CURACAO (NETHERLANDS)\t154843\n",
      "SAINT VINCENT AND THE GRENADINES\t109000\n",
      "ARUBA (NETHERLANDS)\t107394\n",
      "KIRIBATI\t106461\n",
      "UNITED STATES VIRGIN ISLANDS (U.S.)\t106405\n",
      "GRENADA\t103328\n",
      "TONGA\t103252\n",
      "FEDERATED STATES OF MICRONESIA\t101351\n",
      "JERSEY (UK)\t99000\n",
      "SEYCHELLES\t89949\n",
      "ANTIGUA AND BARBUDA\t86295\n",
      "ISLE OF MAN (UK)\t84497\n",
      "ANDORRA\t76949\n",
      "DOMINICA\t71293\n",
      "BERMUDA (UK)\t64237\n",
      "GUERNSEY (UK)\t63085\n",
      "GREENLAND (DENMARK)\t56295\n",
      "MARSHALL ISLANDS\t56086\n",
      "CAYMAN ISLANDS (UK)\t55691\n",
      "AMERICAN SAMOA (U.S.)\t55519\n",
      "SAINT KITTS AND NEVIS\t55000\n",
      "NORTHERN MARIANA ISLANDS (U.S.)\t53883\n",
      "SOUTH OSSETIA[24]\t51547\n",
      "FAROE ISLANDS (DENMARK)\t48605\n",
      "SINT MAARTEN (NETHERLANDS)\t37429\n",
      "LIECHTENSTEIN\t37132\n",
      "MONACO\t36950\n",
      "COLLECTIVITY OF SAINT MARTIN (FRANCE)\t35742\n",
      "SAN MARINO\t32777\n",
      "TURKS AND CAICOS ISLANDS (UK)\t31458\n",
      "GIBRALTAR (UK)\t30001\n",
      "ALAND ISLANDS (FINLAND)\t28875\n",
      "BRITISH VIRGIN ISLANDS (UK)\t28054\n",
      "CARIBBEAN NETHERLANDS (NETHERLANDS)\t23296\n",
      "PALAU\t20901\n",
      "COOK ISLANDS (NEW ZEALAND)\t14974\n",
      "ANGUILLA (UK)\t13452\n",
      "WALLIS AND FUTUNA (FRANCE)\t13135\n",
      "TUVALU\t11323\n",
      "NAURU\t10084\n",
      "SAINT BARTHELEMY (FRANCE)\t9131\n",
      "SAINT PIERRE AND MIQUELON (FRANCE)\t6069\n",
      "MONTSERRAT (UK)\t4922\n",
      "SAINT HELENA, ASCENSION AND TRISTAN DA CUNHA (UK)\t4000\n",
      "FALKLAND ISLANDS (UK)\t3000\n",
      "SVALBARD AND JAN MAYEN (NORWAY)\t2562\n",
      "NORFOLK ISLAND (AUSTRALIA)\t2302\n",
      "CHRISTMAS ISLAND (AUSTRALIA)\t2072\n",
      "NIUE (NEW ZEALAND)\t1613\n",
      "TOKELAU (NZ)\t1411\n",
      "VATICAN CITY\t839\n",
      "COCOS (KEELING) ISLANDS (AUSTRALIA)\t550\n",
      "PITCAIRN ISLANDS (UK)\t56\n"
     ]
    }
   ],
   "source": [
    "for line in open(r'C:\\Users\\79618\\Downloads\\population.txt'):\n",
    "    # Использование итератора файлового объекта для чтения по строкам\n",
    "    # Вызывает__ next__ , перехватывает Stopiteration\n",
    "    print(line.upper(), end='')"
   ]
  },
  {
   "cell_type": "markdown",
   "id": "c20fbd41",
   "metadata": {},
   "source": [
    "* ``next()`` - автоматически вызывает метод ``__next__`` объекта."
   ]
  },
  {
   "cell_type": "code",
   "execution_count": 7,
   "id": "597e0443",
   "metadata": {},
   "outputs": [
    {
     "name": "stdout",
     "output_type": "stream",
     "text": [
      "China\t1368050000\n",
      "\n",
      "India\t1266480000\n",
      "\n",
      "United States\t320341000\n",
      "\n"
     ]
    },
    {
     "data": {
      "text/plain": [
       "'Indonesia\\t255461700\\n'"
      ]
     },
     "execution_count": 7,
     "metadata": {},
     "output_type": "execute_result"
    }
   ],
   "source": [
    "f=open(r'C:\\Users\\79618\\Downloads\\population.txt')\n",
    "print(f.readline())\n",
    "print(f.readline())\n",
    "print(f.__next__())\n",
    "next(f)"
   ]
  },
  {
   "attachments": {
    "image.png": {
     "image/png": "[encoded data removed]"
    }
   },
   "cell_type": "markdown",
   "id": "fb416b6c",
   "metadata": {},
   "source": [
    "![im123укаму21у3ца2ууцage.png](attachment:image.png)"
   ]
  },
  {
   "cell_type": "code",
   "execution_count": 14,
   "id": "900f524a",
   "metadata": {},
   "outputs": [
    {
     "data": {
      "text/plain": [
       "<list_iterator at 0x2193d2947f0>"
      ]
     },
     "execution_count": 14,
     "metadata": {},
     "output_type": "execute_result"
    }
   ],
   "source": [
    "L = [1, 2, 3]\n",
    "I = iter(L)# Получение объекта итератора из итерируемого объекта\n",
    "I"
   ]
  },
  {
   "cell_type": "code",
   "execution_count": 15,
   "id": "6fda35fd",
   "metadata": {},
   "outputs": [
    {
     "data": {
      "text/plain": [
       "1"
      ]
     },
     "execution_count": 15,
     "metadata": {},
     "output_type": "execute_result"
    }
   ],
   "source": [
    "I.__next__()# Вызов метода next итератора для продвижения\n",
    "# на следующий элемент"
   ]
  },
  {
   "cell_type": "code",
   "execution_count": 16,
   "id": "bea6d791",
   "metadata": {},
   "outputs": [
    {
     "data": {
      "text/plain": [
       "2"
      ]
     },
     "execution_count": 16,
     "metadata": {},
     "output_type": "execute_result"
    }
   ],
   "source": [
    "I.__next__()"
   ]
  },
  {
   "cell_type": "code",
   "execution_count": 17,
   "id": "d7cd4435",
   "metadata": {},
   "outputs": [
    {
     "data": {
      "text/plain": [
       "3"
      ]
     },
     "execution_count": 17,
     "metadata": {},
     "output_type": "execute_result"
    }
   ],
   "source": [
    "I.__next__()"
   ]
  },
  {
   "cell_type": "code",
   "execution_count": 18,
   "id": "5013549b",
   "metadata": {},
   "outputs": [
    {
     "ename": "StopIteration",
     "evalue": "",
     "output_type": "error",
     "traceback": [
      "\u001b[1;31m---------------------------------------------------------------------------\u001b[0m",
      "\u001b[1;31mStopIteration\u001b[0m                             Traceback (most recent call last)",
      "Cell \u001b[1;32mIn[18], line 1\u001b[0m\n\u001b[1;32m----> 1\u001b[0m I\u001b[38;5;241m.\u001b[39m\u001b[38;5;21m__next__\u001b[39m()\n",
      "\u001b[1;31mStopIteration\u001b[0m: "
     ]
    }
   ],
   "source": [
    "I.__next__()"
   ]
  },
  {
   "cell_type": "markdown",
   "id": "4e99d514",
   "metadata": {},
   "source": [
    "Cписки и многие другие встроенные объекты не являются итераторами сами по себе, потому что они поддерживают множество открытых итераций — например, они могут участвовать в нескольких итерациях во вложенных циклах, причем\n",
    "находиться в совершенно разных позициях. Для таких объектов мы обязаны вызывать\n",
    "метод iter для запуска итерации:"
   ]
  },
  {
   "cell_type": "code",
   "execution_count": 19,
   "id": "00e0a9ce",
   "metadata": {},
   "outputs": [
    {
     "data": {
      "text/plain": [
       "False"
      ]
     },
     "execution_count": 19,
     "metadata": {},
     "output_type": "execute_result"
    }
   ],
   "source": [
    "L = [1, 2, 3]\n",
    "iter(L) is L"
   ]
  },
  {
   "cell_type": "code",
   "execution_count": 20,
   "id": "33f21e71",
   "metadata": {},
   "outputs": [
    {
     "name": "stdout",
     "output_type": "stream",
     "text": [
      "1 4 9 "
     ]
    }
   ],
   "source": [
    "L = [1, 2, 3]\n",
    "\n",
    "for X in L: # Автоматическая итерация\n",
    "    print(X**2, end=\" \") # Получает iter, вызывает__next__ ,\n",
    "# перехватывает исключения"
   ]
  },
  {
   "cell_type": "code",
   "execution_count": 21,
   "id": "2cf588dd",
   "metadata": {},
   "outputs": [
    {
     "name": "stdout",
     "output_type": "stream",
     "text": [
      "1 4 9 "
     ]
    }
   ],
   "source": [
    "I = iter(L) # Ручная итерация: то, что обычно делают циклы for\n",
    "while True:\n",
    "    try: # Оператор try перехватывает исключения\n",
    "        X = next(I) # Или вызов I.__ next__ в Python З.Х\n",
    "    except StopIteration:\n",
    "        break\n",
    "    print(X ** 2, end=\" \")"
   ]
  },
  {
   "cell_type": "code",
   "execution_count": 22,
   "id": "4c652bad",
   "metadata": {},
   "outputs": [
    {
     "name": "stdout",
     "output_type": "stream",
     "text": [
      "a 1\n",
      "b 2\n",
      "c 3\n"
     ]
    }
   ],
   "source": [
    "D = {'a' :1, 'b':2, 'c' :3}\n",
    "for key in D.keys():\n",
    "    print(key, D[key])"
   ]
  },
  {
   "cell_type": "code",
   "execution_count": 23,
   "id": "09b6ea45",
   "metadata": {},
   "outputs": [
    {
     "data": {
      "text/plain": [
       "'a'"
      ]
     },
     "execution_count": 23,
     "metadata": {},
     "output_type": "execute_result"
    }
   ],
   "source": [
    "I = iter(D)\n",
    "next(I)\n"
   ]
  },
  {
   "cell_type": "code",
   "execution_count": 24,
   "id": "7bbbf63e",
   "metadata": {},
   "outputs": [
    {
     "name": "stdout",
     "output_type": "stream",
     "text": [
      "a 1\n",
      "b 2\n",
      "c 3\n"
     ]
    }
   ],
   "source": [
    "for key in D:\n",
    "    print (key, D[key])"
   ]
  },
  {
   "cell_type": "code",
   "execution_count": 28,
   "id": "19e246ed",
   "metadata": {},
   "outputs": [
    {
     "data": {
      "text/plain": [
       "<enumerate at 0x2193ddf3470>"
      ]
     },
     "execution_count": 28,
     "metadata": {},
     "output_type": "execute_result"
    }
   ],
   "source": [
    "E = enumerate('spam')\n",
    "E\n"
   ]
  },
  {
   "cell_type": "code",
   "execution_count": 26,
   "id": "e8ca59cc",
   "metadata": {},
   "outputs": [
    {
     "data": {
      "text/plain": [
       "(0, 's')"
      ]
     },
     "execution_count": 26,
     "metadata": {},
     "output_type": "execute_result"
    }
   ],
   "source": [
    "I = iter(E)\n",
    "next (I)"
   ]
  },
  {
   "cell_type": "code",
   "execution_count": 27,
   "id": "54500717",
   "metadata": {},
   "outputs": [
    {
     "data": {
      "text/plain": [
       "[(0, 's'), (1, 'p'), (2, 'a'), (3, 'm')]"
      ]
     },
     "execution_count": 27,
     "metadata": {},
     "output_type": "execute_result"
    }
   ],
   "source": [
    "list(enumerate('spam'))"
   ]
  },
  {
   "cell_type": "markdown",
   "id": "30253e75",
   "metadata": {},
   "source": [
    "# Использование итераторов"
   ]
  },
  {
   "cell_type": "code",
   "execution_count": 30,
   "id": "288c75b0",
   "metadata": {},
   "outputs": [
    {
     "data": {
      "text/plain": [
       "[11, 12, 13, 14, 15]"
      ]
     },
     "execution_count": 30,
     "metadata": {},
     "output_type": "execute_result"
    }
   ],
   "source": [
    "L = [1, 2, 3, 4, 5]\n",
    "for i in range (len (L)) :\n",
    "    L[i] += 10\n",
    "L"
   ]
  },
  {
   "cell_type": "code",
   "execution_count": 31,
   "id": "8f720bbd",
   "metadata": {},
   "outputs": [
    {
     "data": {
      "text/plain": [
       "[21, 22, 23, 24, 25]"
      ]
     },
     "execution_count": 31,
     "metadata": {},
     "output_type": "execute_result"
    }
   ],
   "source": [
    "L = [х + 10 for х in L]\n",
    "L\n"
   ]
  },
  {
   "cell_type": "code",
   "execution_count": 32,
   "id": "3d1b76ce",
   "metadata": {},
   "outputs": [
    {
     "data": {
      "text/plain": [
       "['Brazil\\t203841000',\n",
       " 'Pakistan\\t188894000',\n",
       " 'Nigeria\\t183523000',\n",
       " 'Bangladesh\\t157784000',\n",
       " 'Russia\\t146270033',\n",
       " 'Japan\\t127020000',\n",
       " 'Mexico\\t121005815',\n",
       " 'Philippines\\t100959800',\n",
       " 'Vietnam\\t90730000',\n",
       " 'Ethiopia\\t90076012',\n",
       " 'Egypt\\t87965900',\n",
       " 'Germany\\t80767000',\n",
       " 'Iran\\t78096500',\n",
       " 'Turkey\\t77695904',\n",
       " 'Democratic Republic of the Congo\\t71246000',\n",
       " 'France\\t66092000',\n",
       " 'Thailand\\t64871000',\n",
       " 'United Kingdom\\t64105654',\n",
       " 'Italy\\t60782897',\n",
       " 'South Africa\\t54002000',\n",
       " 'Burma\\t51419420',\n",
       " 'South Korea\\t50423955',\n",
       " 'Colombia\\t47984800',\n",
       " 'Tanzania\\t47421786',\n",
       " 'Kenya\\t46749000',\n",
       " 'Spain\\t46464053',\n",
       " 'Argentina\\t43131966',\n",
       " 'Ukraine\\t42953889',\n",
       " 'Algeria\\t39500000',\n",
       " 'Poland\\t38496000',\n",
       " 'Sudan\\t38435252',\n",
       " 'Iraq\\t36004552',\n",
       " 'Canada\\t35675834',\n",
       " 'Uganda\\t34856813',\n",
       " 'Morocco\\t33516100',\n",
       " 'Saudi Arabia\\t31521418',\n",
       " 'Peru\\t31151643',\n",
       " 'Venezuela\\t30620404',\n",
       " 'Uzbekistan\\t30492800',\n",
       " 'Malaysia\\t30483800',\n",
       " 'Nepal\\t28037904',\n",
       " 'Ghana\\t27043093',\n",
       " 'Afghanistan\\t26556800',\n",
       " 'Yemen\\t25956000',\n",
       " 'Mozambique\\t25727911',\n",
       " 'North Korea\\t25155000',\n",
       " 'Angola\\t24383301',\n",
       " 'Australia\\t23735500',\n",
       " 'Taiwan\\t23433753',\n",
       " 'Ivory Coast\\t22671331',\n",
       " 'Syria\\t22265000',\n",
       " 'Madagascar\\t21842167',\n",
       " 'Cameroon\\t21143237',\n",
       " 'Sri Lanka\\t20359439',\n",
       " 'Romania\\t19942642',\n",
       " 'Niger\\t19268000',\n",
       " 'Chile\\t18006407',\n",
       " 'Kazakhstan\\t17397200',\n",
       " 'Burkina Faso\\t17322796',\n",
       " 'Netherlands\\t16888500',\n",
       " 'Malawi\\t16310431',\n",
       " 'Mali\\t16259000',\n",
       " 'Ecuador\\t15925700',\n",
       " 'Guatemala\\t15806675',\n",
       " 'Zambia\\t15473905',\n",
       " 'Cambodia\\t15405157',\n",
       " 'Chad\\t13606000',\n",
       " 'Senegal\\t13508715',\n",
       " 'Zimbabwe\\t13061239',\n",
       " 'South Sudan\\t11892934',\n",
       " 'Bolivia\\t11410651',\n",
       " 'Belgium\\t11233192',\n",
       " 'Cuba\\t11210064',\n",
       " 'Somalia\\t11123000',\n",
       " 'Rwanda\\t10996891',\n",
       " 'Greece\\t10992589',\n",
       " 'Tunisia\\t10982754',\n",
       " 'Haiti\\t10911819',\n",
       " 'Guinea\\t10628972',\n",
       " 'Czech Republic\\t10521600',\n",
       " 'Portugal\\t10477800',\n",
       " 'Dominican Republic\\t10378267',\n",
       " 'Benin\\t10315244',\n",
       " 'Hungary\\t9879000',\n",
       " 'Burundi\\t9823827',\n",
       " 'Sweden\\t9743087',\n",
       " 'Azerbaijan\\t9583200',\n",
       " 'United Arab Emirates\\t9577000',\n",
       " 'Belarus\\t9481000',\n",
       " 'Honduras\\t8725111',\n",
       " 'Austria\\t8572895',\n",
       " 'Israel\\t8296000',\n",
       " 'Switzerland\\t8211700',\n",
       " 'Tajikistan\\t8161000',\n",
       " 'Papua New Guinea\\t7398500',\n",
       " 'Bulgaria\\t7245677',\n",
       " 'Hong Kong (China)\\t7234800',\n",
       " 'Togo\\t7171000',\n",
       " 'Serbia\\t7146759',\n",
       " 'Paraguay\\t6893727',\n",
       " 'Laos\\t6802000',\n",
       " 'Eritrea\\t6738000',\n",
       " 'Jordan\\t6687470',\n",
       " 'El Salvador\\t6401240',\n",
       " 'Sierra Leone\\t6319000',\n",
       " 'Libya\\t6317000',\n",
       " 'Nicaragua\\t6134270',\n",
       " 'Turkmenistan\\t5888000',\n",
       " 'Kyrgyzstan\\t5874100',\n",
       " 'Denmark\\t5655750',\n",
       " 'Finland\\t5475526',\n",
       " 'Singapore\\t5469700',\n",
       " 'Slovakia\\t5421034',\n",
       " 'Norway\\t5156450',\n",
       " 'Central African Republic\\t4803000',\n",
       " 'Costa Rica\\t4773130',\n",
       " 'Republic of the Congo\\t4671000',\n",
       " 'Ireland\\t4609600',\n",
       " 'New Zealand\\t4559890',\n",
       " 'Palestine\\t4550368',\n",
       " 'Liberia\\t4503000',\n",
       " 'Georgia\\t4490500',\n",
       " 'Croatia\\t4267558',\n",
       " 'Lebanon\\t4104000',\n",
       " 'Oman\\t4099904',\n",
       " 'Bosnia and Herzegovina\\t3791622',\n",
       " 'Panama\\t3713312',\n",
       " 'Moldova\\t3557600',\n",
       " 'Puerto Rico (U.S.)\\t3548397',\n",
       " 'Mauritania\\t3545620',\n",
       " 'Uruguay\\t3404189',\n",
       " 'Kuwait\\t3268431',\n",
       " 'Armenia\\t3013900',\n",
       " 'Mongolia\\t3000000',\n",
       " 'Lithuania\\t2921920',\n",
       " 'Albania\\t2895947',\n",
       " 'Jamaica\\t2717991',\n",
       " 'Qatar\\t2235431',\n",
       " 'Lesotho\\t2120000',\n",
       " 'Namibia\\t2113077',\n",
       " 'Macedonia\\t2065769',\n",
       " 'Slovenia\\t2065549',\n",
       " 'Botswana\\t2024904',\n",
       " 'Latvia\\t1988400',\n",
       " 'The Gambia\\t1882450',\n",
       " 'Kosovo\\t1816891',\n",
       " 'Guinea-Bissau\\t1788000',\n",
       " 'Gabon\\t1751000',\n",
       " 'Equatorial Guinea\\t1430000',\n",
       " 'Trinidad and Tobago\\t1328019',\n",
       " 'Bahrain\\t1316500',\n",
       " 'Estonia\\t1312252',\n",
       " 'Mauritius\\t1261208',\n",
       " 'East Timor\\t1212107',\n",
       " 'Swaziland\\t1106189',\n",
       " 'Djibouti\\t900000',\n",
       " 'Fiji\\t859178',\n",
       " 'Cyprus\\t858000',\n",
       " 'Reunion (France)\\t840974',\n",
       " 'Comoros\\t763952',\n",
       " 'Bhutan\\t756940',\n",
       " 'Guyana\\t746900',\n",
       " 'Macau (China)\\t631000',\n",
       " 'Montenegro\\t620029',\n",
       " 'Western Sahara\\t604000',\n",
       " 'Solomon Islands\\t581344',\n",
       " 'Luxembourg\\t549700',\n",
       " 'Suriname\\t534189',\n",
       " 'Cape Verde\\t518467',\n",
       " 'Transnistria\\t505153',\n",
       " 'Malta\\t416055',\n",
       " 'Guadeloupe (France)\\t405739',\n",
       " 'Brunei\\t393372',\n",
       " 'Martinique (France)\\t386486',\n",
       " 'The Bahamas\\t368390',\n",
       " 'Belize\\t349728',\n",
       " 'Maldives\\t341256',\n",
       " 'Iceland\\t328170',\n",
       " 'Northern Cyprus\\t294906',\n",
       " 'Barbados\\t285000',\n",
       " 'New Caledonia (France)\\t268767',\n",
       " 'French Polynesia (France)\\t268270',\n",
       " 'Vanuatu\\t264652',\n",
       " 'Abkhazia\\t240705',\n",
       " 'French Guiana (France)\\t239648',\n",
       " 'Mayotte (France)\\t212645',\n",
       " 'Samoa\\t187820',\n",
       " 'Sao Tome and Principe\\t187356',\n",
       " 'Saint Lucia\\t185000',\n",
       " 'Guam (U.S.)\\t159358',\n",
       " 'Curacao (Netherlands)\\t154843',\n",
       " 'Saint Vincent and the Grenadines\\t109000',\n",
       " 'Aruba (Netherlands)\\t107394',\n",
       " 'Kiribati\\t106461',\n",
       " 'United States Virgin Islands (U.S.)\\t106405',\n",
       " 'Grenada\\t103328',\n",
       " 'Tonga\\t103252',\n",
       " 'Federated States of Micronesia\\t101351',\n",
       " 'Jersey (UK)\\t99000',\n",
       " 'Seychelles\\t89949',\n",
       " 'Antigua and Barbuda\\t86295',\n",
       " 'Isle of Man (UK)\\t84497',\n",
       " 'Andorra\\t76949',\n",
       " 'Dominica\\t71293',\n",
       " 'Bermuda (UK)\\t64237',\n",
       " 'Guernsey (UK)\\t63085',\n",
       " 'Greenland (Denmark)\\t56295',\n",
       " 'Marshall Islands\\t56086',\n",
       " 'Cayman Islands (UK)\\t55691',\n",
       " 'American Samoa (U.S.)\\t55519',\n",
       " 'Saint Kitts and Nevis\\t55000',\n",
       " 'Northern Mariana Islands (U.S.)\\t53883',\n",
       " 'South Ossetia[24]\\t51547',\n",
       " 'Faroe Islands (Denmark)\\t48605',\n",
       " 'Sint Maarten (Netherlands)\\t37429',\n",
       " 'Liechtenstein\\t37132',\n",
       " 'Monaco\\t36950',\n",
       " 'Collectivity of Saint Martin (France)\\t35742',\n",
       " 'San Marino\\t32777',\n",
       " 'Turks and Caicos Islands (UK)\\t31458',\n",
       " 'Gibraltar (UK)\\t30001',\n",
       " 'Aland Islands (Finland)\\t28875',\n",
       " 'British Virgin Islands (UK)\\t28054',\n",
       " 'Caribbean Netherlands (Netherlands)\\t23296',\n",
       " 'Palau\\t20901',\n",
       " 'Cook Islands (New Zealand)\\t14974',\n",
       " 'Anguilla (UK)\\t13452',\n",
       " 'Wallis and Futuna (France)\\t13135',\n",
       " 'Tuvalu\\t11323',\n",
       " 'Nauru\\t10084',\n",
       " 'Saint Barthelemy (France)\\t9131',\n",
       " 'Saint Pierre and Miquelon (France)\\t6069',\n",
       " 'Montserrat (UK)\\t4922',\n",
       " 'Saint Helena, Ascension and Tristan da Cunha (UK)\\t4000',\n",
       " 'Falkland Islands (UK)\\t3000',\n",
       " 'Svalbard and Jan Mayen (Norway)\\t2562',\n",
       " 'Norfolk Island (Australia)\\t2302',\n",
       " 'Christmas Island (Australia)\\t2072',\n",
       " 'Niue (New Zealand)\\t1613',\n",
       " 'Tokelau (NZ)\\t1411',\n",
       " 'Vatican City\\t839',\n",
       " 'Cocos (Keeling) Islands (Australia)\\t550',\n",
       " 'Pitcairn Islands (UK)\\t56']"
      ]
     },
     "execution_count": 32,
     "metadata": {},
     "output_type": "execute_result"
    }
   ],
   "source": [
    "lines=f.readlines()\n",
    "[line.rstrip() for line in lines]"
   ]
  },
  {
   "cell_type": "markdown",
   "id": "36010434",
   "metadata": {},
   "source": [
    "Генератором можно получить все упорядоченные комбинации"
   ]
  },
  {
   "cell_type": "code",
   "execution_count": 33,
   "id": "42d5fbd2",
   "metadata": {},
   "outputs": [
    {
     "data": {
      "text/plain": [
       "['al', 'am', 'an', 'bl', 'bm', 'bn', 'cl', 'cm', 'cn']"
      ]
     },
     "execution_count": 33,
     "metadata": {},
     "output_type": "execute_result"
    }
   ],
   "source": [
    "[х + у for х in 'abc' for у in 'lmn']"
   ]
  },
  {
   "cell_type": "code",
   "execution_count": 34,
   "id": "17e543f4",
   "metadata": {},
   "outputs": [
    {
     "data": {
      "text/plain": [
       "['CHINA\\t1368050000\\n',\n",
       " 'INDIA\\t1266480000\\n',\n",
       " 'UNITED STATES\\t320341000\\n',\n",
       " 'INDONESIA\\t255461700\\n',\n",
       " 'BRAZIL\\t203841000\\n',\n",
       " 'PAKISTAN\\t188894000\\n',\n",
       " 'NIGERIA\\t183523000\\n',\n",
       " 'BANGLADESH\\t157784000\\n',\n",
       " 'RUSSIA\\t146270033\\n',\n",
       " 'JAPAN\\t127020000\\n',\n",
       " 'MEXICO\\t121005815\\n',\n",
       " 'PHILIPPINES\\t100959800\\n',\n",
       " 'VIETNAM\\t90730000\\n',\n",
       " 'ETHIOPIA\\t90076012\\n',\n",
       " 'EGYPT\\t87965900\\n',\n",
       " 'GERMANY\\t80767000\\n',\n",
       " 'IRAN\\t78096500\\n',\n",
       " 'TURKEY\\t77695904\\n',\n",
       " 'DEMOCRATIC REPUBLIC OF THE CONGO\\t71246000\\n',\n",
       " 'FRANCE\\t66092000\\n',\n",
       " 'THAILAND\\t64871000\\n',\n",
       " 'UNITED KINGDOM\\t64105654\\n',\n",
       " 'ITALY\\t60782897\\n',\n",
       " 'SOUTH AFRICA\\t54002000\\n',\n",
       " 'BURMA\\t51419420\\n',\n",
       " 'SOUTH KOREA\\t50423955\\n',\n",
       " 'COLOMBIA\\t47984800\\n',\n",
       " 'TANZANIA\\t47421786\\n',\n",
       " 'KENYA\\t46749000\\n',\n",
       " 'SPAIN\\t46464053\\n',\n",
       " 'ARGENTINA\\t43131966\\n',\n",
       " 'UKRAINE\\t42953889\\n',\n",
       " 'ALGERIA\\t39500000\\n',\n",
       " 'POLAND\\t38496000\\n',\n",
       " 'SUDAN\\t38435252\\n',\n",
       " 'IRAQ\\t36004552\\n',\n",
       " 'CANADA\\t35675834\\n',\n",
       " 'UGANDA\\t34856813\\n',\n",
       " 'MOROCCO\\t33516100\\n',\n",
       " 'SAUDI ARABIA\\t31521418\\n',\n",
       " 'PERU\\t31151643\\n',\n",
       " 'VENEZUELA\\t30620404\\n',\n",
       " 'UZBEKISTAN\\t30492800\\n',\n",
       " 'MALAYSIA\\t30483800\\n',\n",
       " 'NEPAL\\t28037904\\n',\n",
       " 'GHANA\\t27043093\\n',\n",
       " 'AFGHANISTAN\\t26556800\\n',\n",
       " 'YEMEN\\t25956000\\n',\n",
       " 'MOZAMBIQUE\\t25727911\\n',\n",
       " 'NORTH KOREA\\t25155000\\n',\n",
       " 'ANGOLA\\t24383301\\n',\n",
       " 'AUSTRALIA\\t23735500\\n',\n",
       " 'TAIWAN\\t23433753\\n',\n",
       " 'IVORY COAST\\t22671331\\n',\n",
       " 'SYRIA\\t22265000\\n',\n",
       " 'MADAGASCAR\\t21842167\\n',\n",
       " 'CAMEROON\\t21143237\\n',\n",
       " 'SRI LANKA\\t20359439\\n',\n",
       " 'ROMANIA\\t19942642\\n',\n",
       " 'NIGER\\t19268000\\n',\n",
       " 'CHILE\\t18006407\\n',\n",
       " 'KAZAKHSTAN\\t17397200\\n',\n",
       " 'BURKINA FASO\\t17322796\\n',\n",
       " 'NETHERLANDS\\t16888500\\n',\n",
       " 'MALAWI\\t16310431\\n',\n",
       " 'MALI\\t16259000\\n',\n",
       " 'ECUADOR\\t15925700\\n',\n",
       " 'GUATEMALA\\t15806675\\n',\n",
       " 'ZAMBIA\\t15473905\\n',\n",
       " 'CAMBODIA\\t15405157\\n',\n",
       " 'CHAD\\t13606000\\n',\n",
       " 'SENEGAL\\t13508715\\n',\n",
       " 'ZIMBABWE\\t13061239\\n',\n",
       " 'SOUTH SUDAN\\t11892934\\n',\n",
       " 'BOLIVIA\\t11410651\\n',\n",
       " 'BELGIUM\\t11233192\\n',\n",
       " 'CUBA\\t11210064\\n',\n",
       " 'SOMALIA\\t11123000\\n',\n",
       " 'RWANDA\\t10996891\\n',\n",
       " 'GREECE\\t10992589\\n',\n",
       " 'TUNISIA\\t10982754\\n',\n",
       " 'HAITI\\t10911819\\n',\n",
       " 'GUINEA\\t10628972\\n',\n",
       " 'CZECH REPUBLIC\\t10521600\\n',\n",
       " 'PORTUGAL\\t10477800\\n',\n",
       " 'DOMINICAN REPUBLIC\\t10378267\\n',\n",
       " 'BENIN\\t10315244\\n',\n",
       " 'HUNGARY\\t9879000\\n',\n",
       " 'BURUNDI\\t9823827\\n',\n",
       " 'SWEDEN\\t9743087\\n',\n",
       " 'AZERBAIJAN\\t9583200\\n',\n",
       " 'UNITED ARAB EMIRATES\\t9577000\\n',\n",
       " 'BELARUS\\t9481000\\n',\n",
       " 'HONDURAS\\t8725111\\n',\n",
       " 'AUSTRIA\\t8572895\\n',\n",
       " 'ISRAEL\\t8296000\\n',\n",
       " 'SWITZERLAND\\t8211700\\n',\n",
       " 'TAJIKISTAN\\t8161000\\n',\n",
       " 'PAPUA NEW GUINEA\\t7398500\\n',\n",
       " 'BULGARIA\\t7245677\\n',\n",
       " 'HONG KONG (CHINA)\\t7234800\\n',\n",
       " 'TOGO\\t7171000\\n',\n",
       " 'SERBIA\\t7146759\\n',\n",
       " 'PARAGUAY\\t6893727\\n',\n",
       " 'LAOS\\t6802000\\n',\n",
       " 'ERITREA\\t6738000\\n',\n",
       " 'JORDAN\\t6687470\\n',\n",
       " 'EL SALVADOR\\t6401240\\n',\n",
       " 'SIERRA LEONE\\t6319000\\n',\n",
       " 'LIBYA\\t6317000\\n',\n",
       " 'NICARAGUA\\t6134270\\n',\n",
       " 'TURKMENISTAN\\t5888000\\n',\n",
       " 'KYRGYZSTAN\\t5874100\\n',\n",
       " 'DENMARK\\t5655750\\n',\n",
       " 'FINLAND\\t5475526\\n',\n",
       " 'SINGAPORE\\t5469700\\n',\n",
       " 'SLOVAKIA\\t5421034\\n',\n",
       " 'NORWAY\\t5156450\\n',\n",
       " 'CENTRAL AFRICAN REPUBLIC\\t4803000\\n',\n",
       " 'COSTA RICA\\t4773130\\n',\n",
       " 'REPUBLIC OF THE CONGO\\t4671000\\n',\n",
       " 'IRELAND\\t4609600\\n',\n",
       " 'NEW ZEALAND\\t4559890\\n',\n",
       " 'PALESTINE\\t4550368\\n',\n",
       " 'LIBERIA\\t4503000\\n',\n",
       " 'GEORGIA\\t4490500\\n',\n",
       " 'CROATIA\\t4267558\\n',\n",
       " 'LEBANON\\t4104000\\n',\n",
       " 'OMAN\\t4099904\\n',\n",
       " 'BOSNIA AND HERZEGOVINA\\t3791622\\n',\n",
       " 'PANAMA\\t3713312\\n',\n",
       " 'MOLDOVA\\t3557600\\n',\n",
       " 'PUERTO RICO (U.S.)\\t3548397\\n',\n",
       " 'MAURITANIA\\t3545620\\n',\n",
       " 'URUGUAY\\t3404189\\n',\n",
       " 'KUWAIT\\t3268431\\n',\n",
       " 'ARMENIA\\t3013900\\n',\n",
       " 'MONGOLIA\\t3000000\\n',\n",
       " 'LITHUANIA\\t2921920\\n',\n",
       " 'ALBANIA\\t2895947\\n',\n",
       " 'JAMAICA\\t2717991\\n',\n",
       " 'QATAR\\t2235431\\n',\n",
       " 'LESOTHO\\t2120000\\n',\n",
       " 'NAMIBIA\\t2113077\\n',\n",
       " 'MACEDONIA\\t2065769\\n',\n",
       " 'SLOVENIA\\t2065549\\n',\n",
       " 'BOTSWANA\\t2024904\\n',\n",
       " 'LATVIA\\t1988400\\n',\n",
       " 'THE GAMBIA\\t1882450\\n',\n",
       " 'KOSOVO\\t1816891\\n',\n",
       " 'GUINEA-BISSAU\\t1788000\\n',\n",
       " 'GABON\\t1751000\\n',\n",
       " 'EQUATORIAL GUINEA\\t1430000\\n',\n",
       " 'TRINIDAD AND TOBAGO\\t1328019\\n',\n",
       " 'BAHRAIN\\t1316500\\n',\n",
       " 'ESTONIA\\t1312252\\n',\n",
       " 'MAURITIUS\\t1261208\\n',\n",
       " 'EAST TIMOR\\t1212107\\n',\n",
       " 'SWAZILAND\\t1106189\\n',\n",
       " 'DJIBOUTI\\t900000\\n',\n",
       " 'FIJI\\t859178\\n',\n",
       " 'CYPRUS\\t858000\\n',\n",
       " 'REUNION (FRANCE)\\t840974\\n',\n",
       " 'COMOROS\\t763952\\n',\n",
       " 'BHUTAN\\t756940\\n',\n",
       " 'GUYANA\\t746900\\n',\n",
       " 'MACAU (CHINA)\\t631000\\n',\n",
       " 'MONTENEGRO\\t620029\\n',\n",
       " 'WESTERN SAHARA\\t604000\\n',\n",
       " 'SOLOMON ISLANDS\\t581344\\n',\n",
       " 'LUXEMBOURG\\t549700\\n',\n",
       " 'SURINAME\\t534189\\n',\n",
       " 'CAPE VERDE\\t518467\\n',\n",
       " 'TRANSNISTRIA\\t505153\\n',\n",
       " 'MALTA\\t416055\\n',\n",
       " 'GUADELOUPE (FRANCE)\\t405739\\n',\n",
       " 'BRUNEI\\t393372\\n',\n",
       " 'MARTINIQUE (FRANCE)\\t386486\\n',\n",
       " 'THE BAHAMAS\\t368390\\n',\n",
       " 'BELIZE\\t349728\\n',\n",
       " 'MALDIVES\\t341256\\n',\n",
       " 'ICELAND\\t328170\\n',\n",
       " 'NORTHERN CYPRUS\\t294906\\n',\n",
       " 'BARBADOS\\t285000\\n',\n",
       " 'NEW CALEDONIA (FRANCE)\\t268767\\n',\n",
       " 'FRENCH POLYNESIA (FRANCE)\\t268270\\n',\n",
       " 'VANUATU\\t264652\\n',\n",
       " 'ABKHAZIA\\t240705\\n',\n",
       " 'FRENCH GUIANA (FRANCE)\\t239648\\n',\n",
       " 'MAYOTTE (FRANCE)\\t212645\\n',\n",
       " 'SAMOA\\t187820\\n',\n",
       " 'SAO TOME AND PRINCIPE\\t187356\\n',\n",
       " 'SAINT LUCIA\\t185000\\n',\n",
       " 'GUAM (U.S.)\\t159358\\n',\n",
       " 'CURACAO (NETHERLANDS)\\t154843\\n',\n",
       " 'SAINT VINCENT AND THE GRENADINES\\t109000\\n',\n",
       " 'ARUBA (NETHERLANDS)\\t107394\\n',\n",
       " 'KIRIBATI\\t106461\\n',\n",
       " 'UNITED STATES VIRGIN ISLANDS (U.S.)\\t106405\\n',\n",
       " 'GRENADA\\t103328\\n',\n",
       " 'TONGA\\t103252\\n',\n",
       " 'FEDERATED STATES OF MICRONESIA\\t101351\\n',\n",
       " 'JERSEY (UK)\\t99000\\n',\n",
       " 'SEYCHELLES\\t89949\\n',\n",
       " 'ANTIGUA AND BARBUDA\\t86295\\n',\n",
       " 'ISLE OF MAN (UK)\\t84497\\n',\n",
       " 'ANDORRA\\t76949\\n',\n",
       " 'DOMINICA\\t71293\\n',\n",
       " 'BERMUDA (UK)\\t64237\\n',\n",
       " 'GUERNSEY (UK)\\t63085\\n',\n",
       " 'GREENLAND (DENMARK)\\t56295\\n',\n",
       " 'MARSHALL ISLANDS\\t56086\\n',\n",
       " 'CAYMAN ISLANDS (UK)\\t55691\\n',\n",
       " 'AMERICAN SAMOA (U.S.)\\t55519\\n',\n",
       " 'SAINT KITTS AND NEVIS\\t55000\\n',\n",
       " 'NORTHERN MARIANA ISLANDS (U.S.)\\t53883\\n',\n",
       " 'SOUTH OSSETIA[24]\\t51547\\n',\n",
       " 'FAROE ISLANDS (DENMARK)\\t48605\\n',\n",
       " 'SINT MAARTEN (NETHERLANDS)\\t37429\\n',\n",
       " 'LIECHTENSTEIN\\t37132\\n',\n",
       " 'MONACO\\t36950\\n',\n",
       " 'COLLECTIVITY OF SAINT MARTIN (FRANCE)\\t35742\\n',\n",
       " 'SAN MARINO\\t32777\\n',\n",
       " 'TURKS AND CAICOS ISLANDS (UK)\\t31458\\n',\n",
       " 'GIBRALTAR (UK)\\t30001\\n',\n",
       " 'ALAND ISLANDS (FINLAND)\\t28875\\n',\n",
       " 'BRITISH VIRGIN ISLANDS (UK)\\t28054\\n',\n",
       " 'CARIBBEAN NETHERLANDS (NETHERLANDS)\\t23296\\n',\n",
       " 'PALAU\\t20901\\n',\n",
       " 'COOK ISLANDS (NEW ZEALAND)\\t14974\\n',\n",
       " 'ANGUILLA (UK)\\t13452\\n',\n",
       " 'WALLIS AND FUTUNA (FRANCE)\\t13135\\n',\n",
       " 'TUVALU\\t11323\\n',\n",
       " 'NAURU\\t10084\\n',\n",
       " 'SAINT BARTHELEMY (FRANCE)\\t9131\\n',\n",
       " 'SAINT PIERRE AND MIQUELON (FRANCE)\\t6069\\n',\n",
       " 'MONTSERRAT (UK)\\t4922\\n',\n",
       " 'SAINT HELENA, ASCENSION AND TRISTAN DA CUNHA (UK)\\t4000\\n',\n",
       " 'FALKLAND ISLANDS (UK)\\t3000\\n',\n",
       " 'SVALBARD AND JAN MAYEN (NORWAY)\\t2562\\n',\n",
       " 'NORFOLK ISLAND (AUSTRALIA)\\t2302\\n',\n",
       " 'CHRISTMAS ISLAND (AUSTRALIA)\\t2072\\n',\n",
       " 'NIUE (NEW ZEALAND)\\t1613\\n',\n",
       " 'TOKELAU (NZ)\\t1411\\n',\n",
       " 'VATICAN CITY\\t839\\n',\n",
       " 'COCOS (KEELING) ISLANDS (AUSTRALIA)\\t550\\n',\n",
       " 'PITCAIRN ISLANDS (UK)\\t56\\n']"
      ]
     },
     "execution_count": 34,
     "metadata": {},
     "output_type": "execute_result"
    }
   ],
   "source": [
    "list(map(str.upper, open(r'C:\\Users\\79618\\Downloads\\population.txt')))"
   ]
  },
  {
   "cell_type": "code",
   "execution_count": 35,
   "id": "bef64edd",
   "metadata": {},
   "outputs": [
    {
     "data": {
      "text/plain": [
       "[11,\n",
       " 'China\\t1368050000\\n',\n",
       " 'India\\t1266480000\\n',\n",
       " 'United States\\t320341000\\n',\n",
       " 'Indonesia\\t255461700\\n',\n",
       " 'Brazil\\t203841000\\n',\n",
       " 'Pakistan\\t188894000\\n',\n",
       " 'Nigeria\\t183523000\\n',\n",
       " 'Bangladesh\\t157784000\\n',\n",
       " 'Russia\\t146270033\\n',\n",
       " 'Japan\\t127020000\\n',\n",
       " 'Mexico\\t121005815\\n',\n",
       " 'Philippines\\t100959800\\n',\n",
       " 'Vietnam\\t90730000\\n',\n",
       " 'Ethiopia\\t90076012\\n',\n",
       " 'Egypt\\t87965900\\n',\n",
       " 'Germany\\t80767000\\n',\n",
       " 'Iran\\t78096500\\n',\n",
       " 'Turkey\\t77695904\\n',\n",
       " 'Democratic Republic of the Congo\\t71246000\\n',\n",
       " 'France\\t66092000\\n',\n",
       " 'Thailand\\t64871000\\n',\n",
       " 'United Kingdom\\t64105654\\n',\n",
       " 'Italy\\t60782897\\n',\n",
       " 'South Africa\\t54002000\\n',\n",
       " 'Burma\\t51419420\\n',\n",
       " 'South Korea\\t50423955\\n',\n",
       " 'Colombia\\t47984800\\n',\n",
       " 'Tanzania\\t47421786\\n',\n",
       " 'Kenya\\t46749000\\n',\n",
       " 'Spain\\t46464053\\n',\n",
       " 'Argentina\\t43131966\\n',\n",
       " 'Ukraine\\t42953889\\n',\n",
       " 'Algeria\\t39500000\\n',\n",
       " 'Poland\\t38496000\\n',\n",
       " 'Sudan\\t38435252\\n',\n",
       " 'Iraq\\t36004552\\n',\n",
       " 'Canada\\t35675834\\n',\n",
       " 'Uganda\\t34856813\\n',\n",
       " 'Morocco\\t33516100\\n',\n",
       " 'Saudi Arabia\\t31521418\\n',\n",
       " 'Peru\\t31151643\\n',\n",
       " 'Venezuela\\t30620404\\n',\n",
       " 'Uzbekistan\\t30492800\\n',\n",
       " 'Malaysia\\t30483800\\n',\n",
       " 'Nepal\\t28037904\\n',\n",
       " 'Ghana\\t27043093\\n',\n",
       " 'Afghanistan\\t26556800\\n',\n",
       " 'Yemen\\t25956000\\n',\n",
       " 'Mozambique\\t25727911\\n',\n",
       " 'North Korea\\t25155000\\n',\n",
       " 'Angola\\t24383301\\n',\n",
       " 'Australia\\t23735500\\n',\n",
       " 'Taiwan\\t23433753\\n',\n",
       " 'Ivory Coast\\t22671331\\n',\n",
       " 'Syria\\t22265000\\n',\n",
       " 'Madagascar\\t21842167\\n',\n",
       " 'Cameroon\\t21143237\\n',\n",
       " 'Sri Lanka\\t20359439\\n',\n",
       " 'Romania\\t19942642\\n',\n",
       " 'Niger\\t19268000\\n',\n",
       " 'Chile\\t18006407\\n',\n",
       " 'Kazakhstan\\t17397200\\n',\n",
       " 'Burkina Faso\\t17322796\\n',\n",
       " 'Netherlands\\t16888500\\n',\n",
       " 'Malawi\\t16310431\\n',\n",
       " 'Mali\\t16259000\\n',\n",
       " 'Ecuador\\t15925700\\n',\n",
       " 'Guatemala\\t15806675\\n',\n",
       " 'Zambia\\t15473905\\n',\n",
       " 'Cambodia\\t15405157\\n',\n",
       " 'Chad\\t13606000\\n',\n",
       " 'Senegal\\t13508715\\n',\n",
       " 'Zimbabwe\\t13061239\\n',\n",
       " 'South Sudan\\t11892934\\n',\n",
       " 'Bolivia\\t11410651\\n',\n",
       " 'Belgium\\t11233192\\n',\n",
       " 'Cuba\\t11210064\\n',\n",
       " 'Somalia\\t11123000\\n',\n",
       " 'Rwanda\\t10996891\\n',\n",
       " 'Greece\\t10992589\\n',\n",
       " 'Tunisia\\t10982754\\n',\n",
       " 'Haiti\\t10911819\\n',\n",
       " 'Guinea\\t10628972\\n',\n",
       " 'Czech Republic\\t10521600\\n',\n",
       " 'Portugal\\t10477800\\n',\n",
       " 'Dominican Republic\\t10378267\\n',\n",
       " 'Benin\\t10315244\\n',\n",
       " 'Hungary\\t9879000\\n',\n",
       " 'Burundi\\t9823827\\n',\n",
       " 'Sweden\\t9743087\\n',\n",
       " 'Azerbaijan\\t9583200\\n',\n",
       " 'United Arab Emirates\\t9577000\\n',\n",
       " 'Belarus\\t9481000\\n',\n",
       " 'Honduras\\t8725111\\n',\n",
       " 'Austria\\t8572895\\n',\n",
       " 'Israel\\t8296000\\n',\n",
       " 'Switzerland\\t8211700\\n',\n",
       " 'Tajikistan\\t8161000\\n',\n",
       " 'Papua New Guinea\\t7398500\\n',\n",
       " 'Bulgaria\\t7245677\\n',\n",
       " 'Hong Kong (China)\\t7234800\\n',\n",
       " 'Togo\\t7171000\\n',\n",
       " 'Serbia\\t7146759\\n',\n",
       " 'Paraguay\\t6893727\\n',\n",
       " 'Laos\\t6802000\\n',\n",
       " 'Eritrea\\t6738000\\n',\n",
       " 'Jordan\\t6687470\\n',\n",
       " 'El Salvador\\t6401240\\n',\n",
       " 'Sierra Leone\\t6319000\\n',\n",
       " 'Libya\\t6317000\\n',\n",
       " 'Nicaragua\\t6134270\\n',\n",
       " 'Turkmenistan\\t5888000\\n',\n",
       " 'Kyrgyzstan\\t5874100\\n',\n",
       " 'Denmark\\t5655750\\n',\n",
       " 'Finland\\t5475526\\n',\n",
       " 'Singapore\\t5469700\\n',\n",
       " 'Slovakia\\t5421034\\n',\n",
       " 'Norway\\t5156450\\n',\n",
       " 'Central African Republic\\t4803000\\n',\n",
       " 'Costa Rica\\t4773130\\n',\n",
       " 'Republic of the Congo\\t4671000\\n',\n",
       " 'Ireland\\t4609600\\n',\n",
       " 'New Zealand\\t4559890\\n',\n",
       " 'Palestine\\t4550368\\n',\n",
       " 'Liberia\\t4503000\\n',\n",
       " 'Georgia\\t4490500\\n',\n",
       " 'Croatia\\t4267558\\n',\n",
       " 'Lebanon\\t4104000\\n',\n",
       " 'Oman\\t4099904\\n',\n",
       " 'Bosnia and Herzegovina\\t3791622\\n',\n",
       " 'Panama\\t3713312\\n',\n",
       " 'Moldova\\t3557600\\n',\n",
       " 'Puerto Rico (U.S.)\\t3548397\\n',\n",
       " 'Mauritania\\t3545620\\n',\n",
       " 'Uruguay\\t3404189\\n',\n",
       " 'Kuwait\\t3268431\\n',\n",
       " 'Armenia\\t3013900\\n',\n",
       " 'Mongolia\\t3000000\\n',\n",
       " 'Lithuania\\t2921920\\n',\n",
       " 'Albania\\t2895947\\n',\n",
       " 'Jamaica\\t2717991\\n',\n",
       " 'Qatar\\t2235431\\n',\n",
       " 'Lesotho\\t2120000\\n',\n",
       " 'Namibia\\t2113077\\n',\n",
       " 'Macedonia\\t2065769\\n',\n",
       " 'Slovenia\\t2065549\\n',\n",
       " 'Botswana\\t2024904\\n',\n",
       " 'Latvia\\t1988400\\n',\n",
       " 'The Gambia\\t1882450\\n',\n",
       " 'Kosovo\\t1816891\\n',\n",
       " 'Guinea-Bissau\\t1788000\\n',\n",
       " 'Gabon\\t1751000\\n',\n",
       " 'Equatorial Guinea\\t1430000\\n',\n",
       " 'Trinidad and Tobago\\t1328019\\n',\n",
       " 'Bahrain\\t1316500\\n',\n",
       " 'Estonia\\t1312252\\n',\n",
       " 'Mauritius\\t1261208\\n',\n",
       " 'East Timor\\t1212107\\n',\n",
       " 'Swaziland\\t1106189\\n',\n",
       " 'Djibouti\\t900000\\n',\n",
       " 'Fiji\\t859178\\n',\n",
       " 'Cyprus\\t858000\\n',\n",
       " 'Reunion (France)\\t840974\\n',\n",
       " 'Comoros\\t763952\\n',\n",
       " 'Bhutan\\t756940\\n',\n",
       " 'Guyana\\t746900\\n',\n",
       " 'Macau (China)\\t631000\\n',\n",
       " 'Montenegro\\t620029\\n',\n",
       " 'Western Sahara\\t604000\\n',\n",
       " 'Solomon Islands\\t581344\\n',\n",
       " 'Luxembourg\\t549700\\n',\n",
       " 'Suriname\\t534189\\n',\n",
       " 'Cape Verde\\t518467\\n',\n",
       " 'Transnistria\\t505153\\n',\n",
       " 'Malta\\t416055\\n',\n",
       " 'Guadeloupe (France)\\t405739\\n',\n",
       " 'Brunei\\t393372\\n',\n",
       " 'Martinique (France)\\t386486\\n',\n",
       " 'The Bahamas\\t368390\\n',\n",
       " 'Belize\\t349728\\n',\n",
       " 'Maldives\\t341256\\n',\n",
       " 'Iceland\\t328170\\n',\n",
       " 'Northern Cyprus\\t294906\\n',\n",
       " 'Barbados\\t285000\\n',\n",
       " 'New Caledonia (France)\\t268767\\n',\n",
       " 'French Polynesia (France)\\t268270\\n',\n",
       " 'Vanuatu\\t264652\\n',\n",
       " 'Abkhazia\\t240705\\n',\n",
       " 'French Guiana (France)\\t239648\\n',\n",
       " 'Mayotte (France)\\t212645\\n',\n",
       " 'Samoa\\t187820\\n',\n",
       " 'Sao Tome and Principe\\t187356\\n',\n",
       " 'Saint Lucia\\t185000\\n',\n",
       " 'Guam (U.S.)\\t159358\\n',\n",
       " 'Curacao (Netherlands)\\t154843\\n',\n",
       " 'Saint Vincent and the Grenadines\\t109000\\n',\n",
       " 'Aruba (Netherlands)\\t107394\\n',\n",
       " 'Kiribati\\t106461\\n',\n",
       " 'United States Virgin Islands (U.S.)\\t106405\\n',\n",
       " 'Grenada\\t103328\\n',\n",
       " 'Tonga\\t103252\\n',\n",
       " 'Federated States of Micronesia\\t101351\\n',\n",
       " 'Jersey (UK)\\t99000\\n',\n",
       " 'Seychelles\\t89949\\n',\n",
       " 'Antigua and Barbuda\\t86295\\n',\n",
       " 'Isle of Man (UK)\\t84497\\n',\n",
       " 'Andorra\\t76949\\n',\n",
       " 'Dominica\\t71293\\n',\n",
       " 'Bermuda (UK)\\t64237\\n',\n",
       " 'Guernsey (UK)\\t63085\\n',\n",
       " 'Greenland (Denmark)\\t56295\\n',\n",
       " 'Marshall Islands\\t56086\\n',\n",
       " 'Cayman Islands (UK)\\t55691\\n',\n",
       " 'American Samoa (U.S.)\\t55519\\n',\n",
       " 'Saint Kitts and Nevis\\t55000\\n',\n",
       " 'Northern Mariana Islands (U.S.)\\t53883\\n',\n",
       " 'South Ossetia[24]\\t51547\\n',\n",
       " 'Faroe Islands (Denmark)\\t48605\\n',\n",
       " 'Sint Maarten (Netherlands)\\t37429\\n',\n",
       " 'Liechtenstein\\t37132\\n',\n",
       " 'Monaco\\t36950\\n',\n",
       " 'Collectivity of Saint Martin (France)\\t35742\\n',\n",
       " 'San Marino\\t32777\\n',\n",
       " 'Turks and Caicos Islands (UK)\\t31458\\n',\n",
       " 'Gibraltar (UK)\\t30001\\n',\n",
       " 'Aland Islands (Finland)\\t28875\\n',\n",
       " 'British Virgin Islands (UK)\\t28054\\n',\n",
       " 'Caribbean Netherlands (Netherlands)\\t23296\\n',\n",
       " 'Palau\\t20901\\n',\n",
       " 'Cook Islands (New Zealand)\\t14974\\n',\n",
       " 'Anguilla (UK)\\t13452\\n',\n",
       " 'Wallis and Futuna (France)\\t13135\\n',\n",
       " 'Tuvalu\\t11323\\n',\n",
       " 'Nauru\\t10084\\n',\n",
       " 'Saint Barthelemy (France)\\t9131\\n',\n",
       " 'Saint Pierre and Miquelon (France)\\t6069\\n',\n",
       " 'Montserrat (UK)\\t4922\\n',\n",
       " 'Saint Helena, Ascension and Tristan da Cunha (UK)\\t4000\\n',\n",
       " 'Falkland Islands (UK)\\t3000\\n',\n",
       " 'Svalbard and Jan Mayen (Norway)\\t2562\\n',\n",
       " 'Norfolk Island (Australia)\\t2302\\n',\n",
       " 'Christmas Island (Australia)\\t2072\\n',\n",
       " 'Niue (New Zealand)\\t1613\\n',\n",
       " 'Tokelau (NZ)\\t1411\\n',\n",
       " 'Vatican City\\t839\\n',\n",
       " 'Cocos (Keeling) Islands (Australia)\\t550\\n',\n",
       " 'Pitcairn Islands (UK)\\t56\\n']"
      ]
     },
     "execution_count": 35,
     "metadata": {},
     "output_type": "execute_result"
    }
   ],
   "source": [
    "l=[11]\n",
    "l.extend(open(r'C:\\Users\\79618\\Downloads\\population.txt'))\n",
    "l"
   ]
  },
  {
   "cell_type": "markdown",
   "id": "c1b1cad3",
   "metadata": {},
   "source": [
    "**Принимают любой итерируемый объект**\n",
    "* ``sorted`` - сортирует элементы в итерируемом объекте\n",
    "* ``zip`` - объединяет элементы из итерируемых объектов (**После прохода результаты израсходуются**)\n",
    "* ``enumerate`` - формирует пары из элементов в итерируемом объекте и их относительных позиций\n",
    "* ``filter`` - выбирает элементы из итерируемого объекта, для которых заданная функция дает истинное значение; (**После прохода результаты израсходуются**)\n",
    "* ``reduce`` - прогоняет пары элементов в итерируемом объекте через указанную функцию.\n",
    "* ``map`` (**После прохода результаты израсходуются**)\n",
    "* ``sum``\n",
    "* ``any``\n",
    "* ``all``\n",
    "* ``max``\n",
    "* ``min``\n",
    "* ````"
   ]
  },
  {
   "cell_type": "code",
   "execution_count": 36,
   "id": "bf048a50",
   "metadata": {},
   "outputs": [
    {
     "data": {
      "text/plain": [
       "'Zimbabwe\\t13061239\\n'"
      ]
     },
     "execution_count": 36,
     "metadata": {},
     "output_type": "execute_result"
    }
   ],
   "source": [
    "max(open(r'C:\\Users\\79618\\Downloads\\population.txt'))"
   ]
  },
  {
   "cell_type": "code",
   "execution_count": 37,
   "id": "f1c28695",
   "metadata": {},
   "outputs": [],
   "source": [
    "def f(*args) : print(*args ,sep='&')"
   ]
  },
  {
   "cell_type": "code",
   "execution_count": 38,
   "id": "d357b19b",
   "metadata": {},
   "outputs": [
    {
     "name": "stdout",
     "output_type": "stream",
     "text": [
      "1&2&3&4\n"
     ]
    }
   ],
   "source": [
    "f (1, 2, 3, 4)"
   ]
  },
  {
   "cell_type": "code",
   "execution_count": 39,
   "id": "7887f1be",
   "metadata": {},
   "outputs": [
    {
     "name": "stdout",
     "output_type": "stream",
     "text": [
      "China\t1368050000\n",
      "&India\t1266480000\n",
      "&United States\t320341000\n",
      "&Indonesia\t255461700\n",
      "&Brazil\t203841000\n",
      "&Pakistan\t188894000\n",
      "&Nigeria\t183523000\n",
      "&Bangladesh\t157784000\n",
      "&Russia\t146270033\n",
      "&Japan\t127020000\n",
      "&Mexico\t121005815\n",
      "&Philippines\t100959800\n",
      "&Vietnam\t90730000\n",
      "&Ethiopia\t90076012\n",
      "&Egypt\t87965900\n",
      "&Germany\t80767000\n",
      "&Iran\t78096500\n",
      "&Turkey\t77695904\n",
      "&Democratic Republic of the Congo\t71246000\n",
      "&France\t66092000\n",
      "&Thailand\t64871000\n",
      "&United Kingdom\t64105654\n",
      "&Italy\t60782897\n",
      "&South Africa\t54002000\n",
      "&Burma\t51419420\n",
      "&South Korea\t50423955\n",
      "&Colombia\t47984800\n",
      "&Tanzania\t47421786\n",
      "&Kenya\t46749000\n",
      "&Spain\t46464053\n",
      "&Argentina\t43131966\n",
      "&Ukraine\t42953889\n",
      "&Algeria\t39500000\n",
      "&Poland\t38496000\n",
      "&Sudan\t38435252\n",
      "&Iraq\t36004552\n",
      "&Canada\t35675834\n",
      "&Uganda\t34856813\n",
      "&Morocco\t33516100\n",
      "&Saudi Arabia\t31521418\n",
      "&Peru\t31151643\n",
      "&Venezuela\t30620404\n",
      "&Uzbekistan\t30492800\n",
      "&Malaysia\t30483800\n",
      "&Nepal\t28037904\n",
      "&Ghana\t27043093\n",
      "&Afghanistan\t26556800\n",
      "&Yemen\t25956000\n",
      "&Mozambique\t25727911\n",
      "&North Korea\t25155000\n",
      "&Angola\t24383301\n",
      "&Australia\t23735500\n",
      "&Taiwan\t23433753\n",
      "&Ivory Coast\t22671331\n",
      "&Syria\t22265000\n",
      "&Madagascar\t21842167\n",
      "&Cameroon\t21143237\n",
      "&Sri Lanka\t20359439\n",
      "&Romania\t19942642\n",
      "&Niger\t19268000\n",
      "&Chile\t18006407\n",
      "&Kazakhstan\t17397200\n",
      "&Burkina Faso\t17322796\n",
      "&Netherlands\t16888500\n",
      "&Malawi\t16310431\n",
      "&Mali\t16259000\n",
      "&Ecuador\t15925700\n",
      "&Guatemala\t15806675\n",
      "&Zambia\t15473905\n",
      "&Cambodia\t15405157\n",
      "&Chad\t13606000\n",
      "&Senegal\t13508715\n",
      "&Zimbabwe\t13061239\n",
      "&South Sudan\t11892934\n",
      "&Bolivia\t11410651\n",
      "&Belgium\t11233192\n",
      "&Cuba\t11210064\n",
      "&Somalia\t11123000\n",
      "&Rwanda\t10996891\n",
      "&Greece\t10992589\n",
      "&Tunisia\t10982754\n",
      "&Haiti\t10911819\n",
      "&Guinea\t10628972\n",
      "&Czech Republic\t10521600\n",
      "&Portugal\t10477800\n",
      "&Dominican Republic\t10378267\n",
      "&Benin\t10315244\n",
      "&Hungary\t9879000\n",
      "&Burundi\t9823827\n",
      "&Sweden\t9743087\n",
      "&Azerbaijan\t9583200\n",
      "&United Arab Emirates\t9577000\n",
      "&Belarus\t9481000\n",
      "&Honduras\t8725111\n",
      "&Austria\t8572895\n",
      "&Israel\t8296000\n",
      "&Switzerland\t8211700\n",
      "&Tajikistan\t8161000\n",
      "&Papua New Guinea\t7398500\n",
      "&Bulgaria\t7245677\n",
      "&Hong Kong (China)\t7234800\n",
      "&Togo\t7171000\n",
      "&Serbia\t7146759\n",
      "&Paraguay\t6893727\n",
      "&Laos\t6802000\n",
      "&Eritrea\t6738000\n",
      "&Jordan\t6687470\n",
      "&El Salvador\t6401240\n",
      "&Sierra Leone\t6319000\n",
      "&Libya\t6317000\n",
      "&Nicaragua\t6134270\n",
      "&Turkmenistan\t5888000\n",
      "&Kyrgyzstan\t5874100\n",
      "&Denmark\t5655750\n",
      "&Finland\t5475526\n",
      "&Singapore\t5469700\n",
      "&Slovakia\t5421034\n",
      "&Norway\t5156450\n",
      "&Central African Republic\t4803000\n",
      "&Costa Rica\t4773130\n",
      "&Republic of the Congo\t4671000\n",
      "&Ireland\t4609600\n",
      "&New Zealand\t4559890\n",
      "&Palestine\t4550368\n",
      "&Liberia\t4503000\n",
      "&Georgia\t4490500\n",
      "&Croatia\t4267558\n",
      "&Lebanon\t4104000\n",
      "&Oman\t4099904\n",
      "&Bosnia and Herzegovina\t3791622\n",
      "&Panama\t3713312\n",
      "&Moldova\t3557600\n",
      "&Puerto Rico (U.S.)\t3548397\n",
      "&Mauritania\t3545620\n",
      "&Uruguay\t3404189\n",
      "&Kuwait\t3268431\n",
      "&Armenia\t3013900\n",
      "&Mongolia\t3000000\n",
      "&Lithuania\t2921920\n",
      "&Albania\t2895947\n",
      "&Jamaica\t2717991\n",
      "&Qatar\t2235431\n",
      "&Lesotho\t2120000\n",
      "&Namibia\t2113077\n",
      "&Macedonia\t2065769\n",
      "&Slovenia\t2065549\n",
      "&Botswana\t2024904\n",
      "&Latvia\t1988400\n",
      "&The Gambia\t1882450\n",
      "&Kosovo\t1816891\n",
      "&Guinea-Bissau\t1788000\n",
      "&Gabon\t1751000\n",
      "&Equatorial Guinea\t1430000\n",
      "&Trinidad and Tobago\t1328019\n",
      "&Bahrain\t1316500\n",
      "&Estonia\t1312252\n",
      "&Mauritius\t1261208\n",
      "&East Timor\t1212107\n",
      "&Swaziland\t1106189\n",
      "&Djibouti\t900000\n",
      "&Fiji\t859178\n",
      "&Cyprus\t858000\n",
      "&Reunion (France)\t840974\n",
      "&Comoros\t763952\n",
      "&Bhutan\t756940\n",
      "&Guyana\t746900\n",
      "&Macau (China)\t631000\n",
      "&Montenegro\t620029\n",
      "&Western Sahara\t604000\n",
      "&Solomon Islands\t581344\n",
      "&Luxembourg\t549700\n",
      "&Suriname\t534189\n",
      "&Cape Verde\t518467\n",
      "&Transnistria\t505153\n",
      "&Malta\t416055\n",
      "&Guadeloupe (France)\t405739\n",
      "&Brunei\t393372\n",
      "&Martinique (France)\t386486\n",
      "&The Bahamas\t368390\n",
      "&Belize\t349728\n",
      "&Maldives\t341256\n",
      "&Iceland\t328170\n",
      "&Northern Cyprus\t294906\n",
      "&Barbados\t285000\n",
      "&New Caledonia (France)\t268767\n",
      "&French Polynesia (France)\t268270\n",
      "&Vanuatu\t264652\n",
      "&Abkhazia\t240705\n",
      "&French Guiana (France)\t239648\n",
      "&Mayotte (France)\t212645\n",
      "&Samoa\t187820\n",
      "&Sao Tome and Principe\t187356\n",
      "&Saint Lucia\t185000\n",
      "&Guam (U.S.)\t159358\n",
      "&Curacao (Netherlands)\t154843\n",
      "&Saint Vincent and the Grenadines\t109000\n",
      "&Aruba (Netherlands)\t107394\n",
      "&Kiribati\t106461\n",
      "&United States Virgin Islands (U.S.)\t106405\n",
      "&Grenada\t103328\n",
      "&Tonga\t103252\n",
      "&Federated States of Micronesia\t101351\n",
      "&Jersey (UK)\t99000\n",
      "&Seychelles\t89949\n",
      "&Antigua and Barbuda\t86295\n",
      "&Isle of Man (UK)\t84497\n",
      "&Andorra\t76949\n",
      "&Dominica\t71293\n",
      "&Bermuda (UK)\t64237\n",
      "&Guernsey (UK)\t63085\n",
      "&Greenland (Denmark)\t56295\n",
      "&Marshall Islands\t56086\n",
      "&Cayman Islands (UK)\t55691\n",
      "&American Samoa (U.S.)\t55519\n",
      "&Saint Kitts and Nevis\t55000\n",
      "&Northern Mariana Islands (U.S.)\t53883\n",
      "&South Ossetia[24]\t51547\n",
      "&Faroe Islands (Denmark)\t48605\n",
      "&Sint Maarten (Netherlands)\t37429\n",
      "&Liechtenstein\t37132\n",
      "&Monaco\t36950\n",
      "&Collectivity of Saint Martin (France)\t35742\n",
      "&San Marino\t32777\n",
      "&Turks and Caicos Islands (UK)\t31458\n",
      "&Gibraltar (UK)\t30001\n",
      "&Aland Islands (Finland)\t28875\n",
      "&British Virgin Islands (UK)\t28054\n",
      "&Caribbean Netherlands (Netherlands)\t23296\n",
      "&Palau\t20901\n",
      "&Cook Islands (New Zealand)\t14974\n",
      "&Anguilla (UK)\t13452\n",
      "&Wallis and Futuna (France)\t13135\n",
      "&Tuvalu\t11323\n",
      "&Nauru\t10084\n",
      "&Saint Barthelemy (France)\t9131\n",
      "&Saint Pierre and Miquelon (France)\t6069\n",
      "&Montserrat (UK)\t4922\n",
      "&Saint Helena, Ascension and Tristan da Cunha (UK)\t4000\n",
      "&Falkland Islands (UK)\t3000\n",
      "&Svalbard and Jan Mayen (Norway)\t2562\n",
      "&Norfolk Island (Australia)\t2302\n",
      "&Christmas Island (Australia)\t2072\n",
      "&Niue (New Zealand)\t1613\n",
      "&Tokelau (NZ)\t1411\n",
      "&Vatican City\t839\n",
      "&Cocos (Keeling) Islands (Australia)\t550\n",
      "&Pitcairn Islands (UK)\t56\n",
      "\n"
     ]
    }
   ],
   "source": [
    "f(*open(r'C:\\Users\\79618\\Downloads\\population.txt'))"
   ]
  },
  {
   "cell_type": "code",
   "execution_count": 40,
   "id": "56084993",
   "metadata": {},
   "outputs": [
    {
     "ename": "TypeError",
     "evalue": "'range' object is not an iterator",
     "output_type": "error",
     "traceback": [
      "\u001b[1;31m---------------------------------------------------------------------------\u001b[0m",
      "\u001b[1;31mTypeError\u001b[0m                                 Traceback (most recent call last)",
      "Cell \u001b[1;32mIn[40], line 2\u001b[0m\n\u001b[0;32m      1\u001b[0m R \u001b[38;5;241m=\u001b[39m \u001b[38;5;28mrange\u001b[39m (\u001b[38;5;241m3\u001b[39m) \n\u001b[1;32m----> 2\u001b[0m \u001b[38;5;28mnext\u001b[39m(R)\n",
      "\u001b[1;31mTypeError\u001b[0m: 'range' object is not an iterator"
     ]
    }
   ],
   "source": [
    "R = range (3) \n",
    "next(R)"
   ]
  },
  {
   "cell_type": "markdown",
   "id": "80965f15",
   "metadata": {},
   "source": [
    "* определяемые пользователем функции можно превращать в генераторные функции с помощью операторов ``yield``;\n",
    "* списковые включения трансформируются в итерируемые генераторные выражения, когда записываются в круглых скобках;\n",
    "* определяемые пользователем классы делаются итерируемыми посредством перегрузки операций ``__iter__`` или ``__getitem__``."
   ]
  },
  {
   "cell_type": "code",
   "execution_count": 41,
   "id": "700ad98c",
   "metadata": {},
   "outputs": [
    {
     "name": "stdout",
     "output_type": "stream",
     "text": [
      "0.2642666722599287\n",
      "0.5790832528739795\n",
      "0.45036679461895823\n"
     ]
    },
    {
     "ename": "StopIteration",
     "evalue": "",
     "output_type": "error",
     "traceback": [
      "\u001b[1;31m---------------------------------------------------------------------------\u001b[0m",
      "\u001b[1;31mStopIteration\u001b[0m                             Traceback (most recent call last)",
      "Cell \u001b[1;32mIn[41], line 19\u001b[0m\n\u001b[0;32m     17\u001b[0m \u001b[38;5;28mprint\u001b[39m(\u001b[38;5;28mnext\u001b[39m(x))\n\u001b[0;32m     18\u001b[0m \u001b[38;5;28mprint\u001b[39m(\u001b[38;5;28mnext\u001b[39m(x))\n\u001b[1;32m---> 19\u001b[0m \u001b[38;5;28mprint\u001b[39m(\u001b[38;5;28mnext\u001b[39m(x))\n",
      "Cell \u001b[1;32mIn[41], line 13\u001b[0m, in \u001b[0;36mRandomIterator.__next__\u001b[1;34m(self)\u001b[0m\n\u001b[0;32m     11\u001b[0m     \u001b[38;5;28;01mreturn\u001b[39;00m random()\n\u001b[0;32m     12\u001b[0m \u001b[38;5;28;01melse\u001b[39;00m:\n\u001b[1;32m---> 13\u001b[0m     \u001b[38;5;28;01mraise\u001b[39;00m \u001b[38;5;167;01mStopIteration\u001b[39;00m\n",
      "\u001b[1;31mStopIteration\u001b[0m: "
     ]
    }
   ],
   "source": [
    "from random import random\n",
    "class RandomIterator:\n",
    "    def __iter__(self):\n",
    "        return self\n",
    "    def __init__(self, k):\n",
    "        self.k=k\n",
    "        self.i=0\n",
    "    def __next__(self):\n",
    "        if self.i<self.k:\n",
    "            self.i+=1\n",
    "            return random()\n",
    "        else:\n",
    "            raise StopIteration\n",
    "    \n",
    "x=RandomIterator(3)\n",
    "print(next(x))\n",
    "print(next(x))\n",
    "print(next(x))\n",
    "print(next(x))"
   ]
  },
  {
   "cell_type": "code",
   "execution_count": 42,
   "id": "eb892d60",
   "metadata": {},
   "outputs": [
    {
     "name": "stdout",
     "output_type": "stream",
     "text": [
      "0.7352460391287772\n",
      "0.39453392372965235\n",
      "0.9847949154851133\n",
      "0.21628139285379488\n",
      "0.8138951898889876\n",
      "0.40140401921734215\n",
      "0.8823145213984952\n",
      "0.16860537857884306\n",
      "0.8479161893673091\n",
      "0.7448542642671687\n"
     ]
    }
   ],
   "source": [
    "for i in RandomIterator(10):\n",
    "    print(i)"
   ]
  },
  {
   "cell_type": "code",
   "execution_count": 43,
   "id": "c9c36eda",
   "metadata": {},
   "outputs": [],
   "source": [
    "class DoubleElementListIterator:\n",
    "    def __init__(self, lst):\n",
    "        self.lst=lst\n",
    "        self.i=0\n",
    "    def __next__(self):\n",
    "        if self.i<len(self.lst):\n",
    "            self.i+=2\n",
    "            return self.lst[self.i-2], self.lst[self.i-1]\n",
    "        else:\n",
    "            raise StopIteration\n",
    "class MyList(list):\n",
    "    def __iter__(self):\n",
    "        return DoubleElementListIterator(self)"
   ]
  },
  {
   "cell_type": "code",
   "execution_count": 44,
   "id": "8c2fc7c2",
   "metadata": {},
   "outputs": [
    {
     "name": "stdout",
     "output_type": "stream",
     "text": [
      "0.9016122421147943\n",
      "0.6410230670446226\n",
      "0.1810667947364718\n"
     ]
    },
    {
     "ename": "StopIteration",
     "evalue": "",
     "output_type": "error",
     "traceback": [
      "\u001b[1;31m---------------------------------------------------------------------------\u001b[0m",
      "\u001b[1;31mStopIteration\u001b[0m                             Traceback (most recent call last)",
      "Cell \u001b[1;32mIn[44], line 19\u001b[0m\n\u001b[0;32m     17\u001b[0m \u001b[38;5;28mprint\u001b[39m(\u001b[38;5;28mnext\u001b[39m(x))\n\u001b[0;32m     18\u001b[0m \u001b[38;5;28mprint\u001b[39m(\u001b[38;5;28mnext\u001b[39m(x))\n\u001b[1;32m---> 19\u001b[0m \u001b[38;5;28mprint\u001b[39m(\u001b[38;5;28mnext\u001b[39m(x))\n",
      "Cell \u001b[1;32mIn[44], line 13\u001b[0m, in \u001b[0;36mRandomIterator.__next__\u001b[1;34m(self)\u001b[0m\n\u001b[0;32m     11\u001b[0m     \u001b[38;5;28;01mreturn\u001b[39;00m random()\n\u001b[0;32m     12\u001b[0m \u001b[38;5;28;01melse\u001b[39;00m:\n\u001b[1;32m---> 13\u001b[0m     \u001b[38;5;28;01mraise\u001b[39;00m \u001b[38;5;167;01mStopIteration\u001b[39;00m\n",
      "\u001b[1;31mStopIteration\u001b[0m: "
     ]
    }
   ],
   "source": [
    "from random import random\n",
    "class RandomIterator:\n",
    "    def __iter__(self):\n",
    "        return self\n",
    "    def __init__(self, k):\n",
    "        self.k=k\n",
    "        self.i=0\n",
    "    def __next__(self):\n",
    "        if self.i<self.k:\n",
    "            self.i+=1\n",
    "            return random()\n",
    "        else:\n",
    "            raise StopIteration\n",
    "    \n",
    "x=RandomIterator(3)\n",
    "print(next(x))\n",
    "print(next(x))\n",
    "print(next(x))\n",
    "print(next(x))"
   ]
  },
  {
   "cell_type": "code",
   "execution_count": 45,
   "id": "92d9a4bd",
   "metadata": {},
   "outputs": [],
   "source": [
    "def random_generator(k):\n",
    "    for i in range(k):\n",
    "        yield random()"
   ]
  },
  {
   "cell_type": "code",
   "execution_count": 46,
   "id": "0f4a2db7",
   "metadata": {},
   "outputs": [
    {
     "name": "stdout",
     "output_type": "stream",
     "text": [
      "<class 'generator'>\n"
     ]
    }
   ],
   "source": [
    "gen=random_generator(10)\n",
    "print(type(gen)) #он знает все тело нашей функции"
   ]
  },
  {
   "cell_type": "code",
   "execution_count": 47,
   "id": "0bd38d6f",
   "metadata": {},
   "outputs": [],
   "source": [
    "def simple_gen():\n",
    "    print('Checkpoint_1')\n",
    "    yield 1\n",
    "    print('Checkpoint_2')\n",
    "    yield 2\n",
    "    print('Checkpoint_3')\n",
    "    return 'no more elements'\n",
    "gen=simple_gen()"
   ]
  },
  {
   "cell_type": "code",
   "execution_count": 48,
   "id": "89df3cfd",
   "metadata": {},
   "outputs": [
    {
     "name": "stdout",
     "output_type": "stream",
     "text": [
      "Checkpoint_1\n",
      "1\n"
     ]
    }
   ],
   "source": [
    "print(next(gen))"
   ]
  },
  {
   "cell_type": "code",
   "execution_count": 49,
   "id": "fe75193f",
   "metadata": {},
   "outputs": [
    {
     "name": "stdout",
     "output_type": "stream",
     "text": [
      "Checkpoint_2\n",
      "2\n"
     ]
    }
   ],
   "source": [
    "print(next(gen))"
   ]
  },
  {
   "cell_type": "code",
   "execution_count": 50,
   "id": "f6d7088c",
   "metadata": {},
   "outputs": [
    {
     "name": "stdout",
     "output_type": "stream",
     "text": [
      "Checkpoint_3\n"
     ]
    },
    {
     "ename": "StopIteration",
     "evalue": "no more elements",
     "output_type": "error",
     "traceback": [
      "\u001b[1;31m---------------------------------------------------------------------------\u001b[0m",
      "\u001b[1;31mStopIteration\u001b[0m                             Traceback (most recent call last)",
      "Cell \u001b[1;32mIn[50], line 1\u001b[0m\n\u001b[1;32m----> 1\u001b[0m \u001b[38;5;28mprint\u001b[39m(\u001b[38;5;28mnext\u001b[39m(gen))\n",
      "\u001b[1;31mStopIteration\u001b[0m: no more elements"
     ]
    }
   ],
   "source": [
    "print(next(gen))"
   ]
  },
  {
   "cell_type": "markdown",
   "id": "045adf56",
   "metadata": {},
   "source": [
    "концепция отложенного исполнения"
   ]
  },
  {
   "cell_type": "code",
   "execution_count": 51,
   "id": "f493b70b",
   "metadata": {},
   "outputs": [],
   "source": [
    "for i in gen:\n",
    "    print(i)"
   ]
  },
  {
   "cell_type": "markdown",
   "id": "7aa3390b",
   "metadata": {},
   "source": [
    "return делает yield недостижимым"
   ]
  },
  {
   "cell_type": "markdown",
   "id": "fc29a76f",
   "metadata": {},
   "source": [
    "**Итератор простых чисел**"
   ]
  },
  {
   "cell_type": "code",
   "execution_count": 52,
   "id": "9e25b3ac",
   "metadata": {},
   "outputs": [],
   "source": [
    "def is_prime(n):\n",
    "    if n==1:\n",
    "        return False\n",
    "    for i in range(2,n):\n",
    "        if (n%i) == 0:\n",
    "            return False\n",
    "    return True\n",
    "\n",
    "def primes():\n",
    "    a=1\n",
    "    while True:\n",
    "        a+=1\n",
    "        if is_prime(a):\n",
    "            yield a"
   ]
  },
  {
   "cell_type": "code",
   "execution_count": 53,
   "id": "6fa182e8",
   "metadata": {},
   "outputs": [
    {
     "name": "stdout",
     "output_type": "stream",
     "text": [
      "[2, 3, 5, 7, 11, 13, 17, 19, 23, 29, 31]\n"
     ]
    }
   ],
   "source": [
    "import itertools\n",
    "print(list(itertools.takewhile(lambda x : x <= 31, primes())))\n",
    "# [2, 3, 5, 7, 11, 13, 17, 19, 23, 29, 31]"
   ]
  },
  {
   "cell_type": "markdown",
   "id": "5e3f6c3f",
   "metadata": {},
   "source": [
    "# Рецепты"
   ]
  },
  {
   "cell_type": "markdown",
   "id": "52865b7c",
   "metadata": {
    "heading_collapsed": true
   },
   "source": [
    "## Ручное прохождение по итератору"
   ]
  },
  {
   "cell_type": "markdown",
   "id": "4d758449",
   "metadata": {
    "hidden": true
   },
   "source": [
    "**Задача:** \\\n",
    "Нам нужно обработать элементы итерируемого объекта, но мы не хотим использовать цикл. \n",
    "\n",
    "-------------"
   ]
  },
  {
   "cell_type": "markdown",
   "id": "b2abbc84",
   "metadata": {
    "hidden": true
   },
   "source": [
    "**Решение**"
   ]
  },
  {
   "cell_type": "markdown",
   "id": "ce054090",
   "metadata": {
    "hidden": true
   },
   "source": [
    "Здесь мы вручную проходим по итерируемому объекту с помощью функции ``next()``"
   ]
  },
  {
   "cell_type": "code",
   "execution_count": 54,
   "id": "c1544094",
   "metadata": {
    "hidden": true
   },
   "outputs": [
    {
     "ename": "FileNotFoundError",
     "evalue": "[Errno 2] No such file or directory: '/etc/passwd'",
     "output_type": "error",
     "traceback": [
      "\u001b[1;31m---------------------------------------------------------------------------\u001b[0m",
      "\u001b[1;31mFileNotFoundError\u001b[0m                         Traceback (most recent call last)",
      "Cell \u001b[1;32mIn[54], line 1\u001b[0m\n\u001b[1;32m----> 1\u001b[0m \u001b[38;5;28;01mwith\u001b[39;00m \u001b[38;5;28mopen\u001b[39m(\u001b[38;5;124m'\u001b[39m\u001b[38;5;124m/etc/passwd\u001b[39m\u001b[38;5;124m'\u001b[39m) \u001b[38;5;28;01mas\u001b[39;00m f:\n\u001b[0;32m      2\u001b[0m     \u001b[38;5;28;01mtry\u001b[39;00m:\n\u001b[0;32m      3\u001b[0m         \u001b[38;5;28;01mwhile\u001b[39;00m \u001b[38;5;28;01mTrue\u001b[39;00m:\n",
      "File \u001b[1;32m~\\anaconda3\\Lib\\site-packages\\IPython\\core\\interactiveshell.py:284\u001b[0m, in \u001b[0;36m_modified_open\u001b[1;34m(file, *args, **kwargs)\u001b[0m\n\u001b[0;32m    277\u001b[0m \u001b[38;5;28;01mif\u001b[39;00m file \u001b[38;5;129;01min\u001b[39;00m {\u001b[38;5;241m0\u001b[39m, \u001b[38;5;241m1\u001b[39m, \u001b[38;5;241m2\u001b[39m}:\n\u001b[0;32m    278\u001b[0m     \u001b[38;5;28;01mraise\u001b[39;00m \u001b[38;5;167;01mValueError\u001b[39;00m(\n\u001b[0;32m    279\u001b[0m         \u001b[38;5;124mf\u001b[39m\u001b[38;5;124m\"\u001b[39m\u001b[38;5;124mIPython won\u001b[39m\u001b[38;5;124m'\u001b[39m\u001b[38;5;124mt let you open fd=\u001b[39m\u001b[38;5;132;01m{\u001b[39;00mfile\u001b[38;5;132;01m}\u001b[39;00m\u001b[38;5;124m by default \u001b[39m\u001b[38;5;124m\"\u001b[39m\n\u001b[0;32m    280\u001b[0m         \u001b[38;5;124m\"\u001b[39m\u001b[38;5;124mas it is likely to crash IPython. If you know what you are doing, \u001b[39m\u001b[38;5;124m\"\u001b[39m\n\u001b[0;32m    281\u001b[0m         \u001b[38;5;124m\"\u001b[39m\u001b[38;5;124myou can use builtins\u001b[39m\u001b[38;5;124m'\u001b[39m\u001b[38;5;124m open.\u001b[39m\u001b[38;5;124m\"\u001b[39m\n\u001b[0;32m    282\u001b[0m     )\n\u001b[1;32m--> 284\u001b[0m \u001b[38;5;28;01mreturn\u001b[39;00m io_open(file, \u001b[38;5;241m*\u001b[39margs, \u001b[38;5;241m*\u001b[39m\u001b[38;5;241m*\u001b[39mkwargs)\n",
      "\u001b[1;31mFileNotFoundError\u001b[0m: [Errno 2] No such file or directory: '/etc/passwd'"
     ]
    }
   ],
   "source": [
    "with open('/etc/passwd') as f:\n",
    "    try:\n",
    "        while True:\n",
    "            line = next(f)\n",
    "            print(line, end='')\n",
    "    except StopIteration:\n",
    "        pass"
   ]
  },
  {
   "cell_type": "code",
   "execution_count": null,
   "id": "77cf7344",
   "metadata": {
    "hidden": true
   },
   "outputs": [],
   "source": [
    "with open('/etc/passwd') as f:\n",
    "    while True:\n",
    "        line = next(f, None)\n",
    "        if line is None:\n",
    "            break\n",
    "    print(line, end='')"
   ]
  },
  {
   "cell_type": "code",
   "execution_count": 57,
   "id": "5d05b6e6",
   "metadata": {
    "hidden": true
   },
   "outputs": [],
   "source": [
    "items = [1, 2, 3]\n",
    "# Получаем итератор\n",
    "# Вызываем items.__iter__()\n",
    "it = iter(items)"
   ]
  },
  {
   "cell_type": "code",
   "execution_count": 58,
   "id": "5b31c2c9",
   "metadata": {
    "hidden": true
   },
   "outputs": [
    {
     "data": {
      "text/plain": [
       "1"
      ]
     },
     "execution_count": 58,
     "metadata": {},
     "output_type": "execute_result"
    }
   ],
   "source": [
    "# Запускаем итератор\n",
    "next(it)\n",
    "# Вызываем it.__next__()"
   ]
  },
  {
   "cell_type": "code",
   "execution_count": 59,
   "id": "97c1d493",
   "metadata": {
    "hidden": true
   },
   "outputs": [
    {
     "data": {
      "text/plain": [
       "2"
      ]
     },
     "execution_count": 59,
     "metadata": {},
     "output_type": "execute_result"
    }
   ],
   "source": [
    "next(it)"
   ]
  },
  {
   "cell_type": "code",
   "execution_count": 60,
   "id": "1051eda1",
   "metadata": {
    "hidden": true
   },
   "outputs": [
    {
     "data": {
      "text/plain": [
       "3"
      ]
     },
     "execution_count": 60,
     "metadata": {},
     "output_type": "execute_result"
    }
   ],
   "source": [
    "next(it)"
   ]
  },
  {
   "cell_type": "code",
   "execution_count": 61,
   "id": "3b0afd37",
   "metadata": {
    "hidden": true
   },
   "outputs": [
    {
     "ename": "StopIteration",
     "evalue": "",
     "output_type": "error",
     "traceback": [
      "\u001b[1;31m---------------------------------------------------------------------------\u001b[0m",
      "\u001b[1;31mStopIteration\u001b[0m                             Traceback (most recent call last)",
      "Cell \u001b[1;32mIn[61], line 1\u001b[0m\n\u001b[1;32m----> 1\u001b[0m \u001b[38;5;28mnext\u001b[39m(it)\n",
      "\u001b[1;31mStopIteration\u001b[0m: "
     ]
    }
   ],
   "source": [
    "next(it)"
   ]
  },
  {
   "cell_type": "markdown",
   "id": "4bcda56c",
   "metadata": {
    "heading_collapsed": true
   },
   "source": [
    "## Делегирование итерации"
   ]
  },
  {
   "cell_type": "markdown",
   "id": "3e863909",
   "metadata": {
    "hidden": true
   },
   "source": [
    "**Задача:** \\\n",
    "Вы создали нестандартный объект-контейнер, который внутри содержит список,\n",
    "кортеж или какой-то другой итерируемый объект. Вы хотите заставить ваш новый\n",
    "контейнер работать с итерациями.\n",
    "\n",
    "-------------"
   ]
  },
  {
   "cell_type": "markdown",
   "id": "7c5536d5",
   "metadata": {
    "hidden": true
   },
   "source": [
    "**Решение**"
   ]
  },
  {
   "cell_type": "markdown",
   "id": "9102a846",
   "metadata": {
    "hidden": true
   },
   "source": [
    "В типичном случае вам нужно определить метод ``__iter__()``, который делегирует\n",
    "итерацию внутреннему содержимому контейнера. "
   ]
  },
  {
   "cell_type": "code",
   "execution_count": 62,
   "id": "13635146",
   "metadata": {
    "hidden": true
   },
   "outputs": [],
   "source": [
    "class Node:\n",
    "    def __init__(self, value):\n",
    "        self._value = value\n",
    "        self._children = []\n",
    "    def __repr__(self):\n",
    "        return 'Node({!r})'.format(self._value)\n",
    "    def add_child(self, node):\n",
    "        self._children.append(node)\n",
    "    def __iter__(self):\n",
    "        return iter(self._children)"
   ]
  },
  {
   "cell_type": "code",
   "execution_count": 63,
   "id": "bb4d28cb",
   "metadata": {
    "hidden": true
   },
   "outputs": [
    {
     "name": "stdout",
     "output_type": "stream",
     "text": [
      "Node(1)\n",
      "Node(2)\n"
     ]
    }
   ],
   "source": [
    "root = Node(0)\n",
    "child1 = Node(1)\n",
    "child2 = Node(2)\n",
    "root.add_child(child1)\n",
    "root.add_child(child2)\n",
    "for ch in root: print(ch)"
   ]
  },
  {
   "cell_type": "markdown",
   "id": "b790755e",
   "metadata": {},
   "source": [
    "## Создание новых итерационных паттернов с помощью генераторов"
   ]
  },
  {
   "cell_type": "markdown",
   "id": "72318138",
   "metadata": {},
   "source": [
    "**Задача:** \\\n",
    "Вы хотите реализовать собственный паттерн итераций, который будет отличаться\n",
    "от обычных встроенных функций (таких как ``range()``, ``reversed()`` и т. п.).\n",
    "\n",
    "-------------"
   ]
  },
  {
   "cell_type": "markdown",
   "id": "9bed68a3",
   "metadata": {},
   "source": [
    "**Решение**"
   ]
  },
  {
   "cell_type": "code",
   "execution_count": 66,
   "id": "8ba9c09b",
   "metadata": {},
   "outputs": [],
   "source": [
    "def frange(start, stop, increment):\n",
    "    x = start\n",
    "    while x < stop:\n",
    "        yield x\n",
    "        x += increment"
   ]
  },
  {
   "cell_type": "code",
   "execution_count": 67,
   "id": "80bcac30",
   "metadata": {},
   "outputs": [
    {
     "name": "stdout",
     "output_type": "stream",
     "text": [
      "0\n",
      "0.5\n",
      "1.0\n",
      "1.5\n",
      "2.0\n",
      "2.5\n",
      "3.0\n",
      "3.5\n"
     ]
    }
   ],
   "source": [
    "for n in frange(0, 4, 0.5):\n",
    "    print(n)"
   ]
  },
  {
   "cell_type": "markdown",
   "id": "e928479f",
   "metadata": {},
   "source": [
    "Само присутствие инструкции yield в функции превращает ее в генератор. В отличие от обычной функции, генератор запускается только в ответ на итерацию. Вот\n",
    "эксперимент, который вы можете провести, чтобы понять внутренний механизм\n",
    "работы таких функций:\n"
   ]
  },
  {
   "cell_type": "code",
   "execution_count": 105,
   "id": "b05bddbe",
   "metadata": {},
   "outputs": [],
   "source": [
    "def countdown(n):\n",
    "    print('Starting to count from', n)\n",
    "    while n > 0:\n",
    "        yield n\n",
    "        n -= 1\n",
    "    print('Done!')"
   ]
  },
  {
   "cell_type": "code",
   "execution_count": 108,
   "id": "7abfe239",
   "metadata": {},
   "outputs": [
    {
     "data": {
      "text/plain": [
       "<generator object countdown at 0x000002193DF397D0>"
      ]
     },
     "execution_count": 108,
     "metadata": {},
     "output_type": "execute_result"
    }
   ],
   "source": [
    "c=countdown(3)\n",
    "c"
   ]
  },
  {
   "cell_type": "code",
   "execution_count": 111,
   "id": "6eb1f1d4",
   "metadata": {},
   "outputs": [
    {
     "name": "stdout",
     "output_type": "stream",
     "text": [
      "Done!\n"
     ]
    },
    {
     "ename": "StopIteration",
     "evalue": "",
     "output_type": "error",
     "traceback": [
      "\u001b[1;31m---------------------------------------------------------------------------\u001b[0m",
      "\u001b[1;31mStopIteration\u001b[0m                             Traceback (most recent call last)",
      "Cell \u001b[1;32mIn[111], line 1\u001b[0m\n\u001b[1;32m----> 1\u001b[0m \u001b[38;5;28mnext\u001b[39m(c)\n\u001b[0;32m      2\u001b[0m \u001b[38;5;28mnext\u001b[39m(c)\n",
      "\u001b[1;31mStopIteration\u001b[0m: "
     ]
    }
   ],
   "source": [
    "next(c)\n",
    "next(c)"
   ]
  },
  {
   "cell_type": "markdown",
   "id": "879425cb",
   "metadata": {},
   "source": [
    "Ключевая особенность функции-генератора состоит в том, что она запускается\n",
    "только в  ответ на операции next в  ходе итерирования. Когда генератор возвращает значение, итерирование останавливается. Однако цикл for, который обычно\n",
    "используется для выполнения итераций, сам заботится об этих деталях, поэтому\n",
    "в большинстве случаев вам не стоит волноваться о них. "
   ]
  },
  {
   "cell_type": "markdown",
   "id": "0f21224c",
   "metadata": {},
   "source": [
    "## Реализация протокола итератора"
   ]
  },
  {
   "cell_type": "markdown",
   "id": "25f28d2a",
   "metadata": {},
   "source": [
    "**Задача:** \\\n",
    "Вы создаете собственные объекты, которые хотите сделать итерируемыми, и ищете простой способ реализовать протокол итератора.\n",
    "\n",
    "-------------"
   ]
  },
  {
   "cell_type": "markdown",
   "id": "57f36c5e",
   "metadata": {},
   "source": [
    "**Решение**"
   ]
  },
  {
   "cell_type": "markdown",
   "id": "efdcef68",
   "metadata": {},
   "source": [
    "На текущий момент простейший способ реализации итерируемости в объекте – это\n",
    "использование генератора. В рецепте 4.2 был представлен класс Node, представляющий древовидные структуры. Возможно, вы захотите реализовать итератор,\n",
    "который будет обходить узлы поиском в глубину. Вот как можно это сделать:\n"
   ]
  },
  {
   "cell_type": "code",
   "execution_count": 112,
   "id": "3ec810c4",
   "metadata": {},
   "outputs": [],
   "source": [
    "class Node:\n",
    "    def __init__(self, value):\n",
    "        self._value = value\n",
    "        self._children = []\n",
    "    def __repr__(self):\n",
    "        return 'Node({!r})'.format(self._value)\n",
    "    def add_child(self, node):\n",
    "        self._children.append(node)\n",
    "    def __iter__(self):\n",
    "        return iter(self._children)\n",
    "    def depth_first(self):\n",
    "        yield self\n",
    "        for c in self:\n",
    "            yield from c.depth_first()"
   ]
  },
  {
   "cell_type": "markdown",
   "id": "83f666b4",
   "metadata": {},
   "source": [
    "##  Итерирование в обратном порядке"
   ]
  },
  {
   "cell_type": "markdown",
   "id": "fd462f86",
   "metadata": {},
   "source": [
    "**Задача:** \\\n",
    "Вы хотите проитерировать по последовательности в обратном порядке.\n",
    "\n",
    "-------------"
   ]
  },
  {
   "cell_type": "markdown",
   "id": "40ffae24",
   "metadata": {},
   "source": [
    "**Решение**"
   ]
  },
  {
   "cell_type": "code",
   "execution_count": 114,
   "id": "fad75aa1",
   "metadata": {},
   "outputs": [
    {
     "data": {
      "text/plain": [
       "[4, 3, 2, 1]"
      ]
     },
     "execution_count": 114,
     "metadata": {},
     "output_type": "execute_result"
    }
   ],
   "source": [
    "a = [1, 2, 3, 4]\n",
    "list(reversed(a))"
   ]
  },
  {
   "cell_type": "code",
   "execution_count": null,
   "id": "bd9d6411",
   "metadata": {},
   "outputs": [],
   "source": [
    "class Countdown:\n",
    "    def __init__(self, start):\n",
    "        self.start = start\n",
    " # Прямой итератор\n",
    "    def __iter__(self):\n",
    "        n = self.start\n",
    "        while n > 0:\n",
    "            yield n\n",
    "            n -= 1\n",
    " # Обратный итератор\n",
    "    def __reversed__(self):\n",
    "        n = 1\n",
    "        while n <= self.start:\n",
    "            yield n\n",
    "            n += 1"
   ]
  },
  {
   "cell_type": "markdown",
   "id": "ce3f11c3",
   "metadata": {},
   "source": [
    "## Определение генератора с дополнительным состоянием"
   ]
  },
  {
   "cell_type": "markdown",
   "id": "20f41620",
   "metadata": {},
   "source": [
    "**Задача:** \\\n",
    "Вы хотите написать генератор, но функция работает с дополнительным состоянием, которое вам хотелось бы каким-то образом показать пользователю.\n",
    "\n",
    "-------------"
   ]
  },
  {
   "cell_type": "markdown",
   "id": "a777276a",
   "metadata": {},
   "source": [
    "**Решение**"
   ]
  },
  {
   "cell_type": "markdown",
   "id": "6b9e8feb",
   "metadata": {},
   "source": [
    "Если вам нужен генератор, который показывает пользователю дополнительное\n",
    "состояние, не забудьте, что вы можете легко реализовать его в форме класса, поместив код генератора в метод ``__iter__()``"
   ]
  },
  {
   "cell_type": "code",
   "execution_count": 147,
   "id": "51ae85dc",
   "metadata": {},
   "outputs": [],
   "source": [
    "from collections import deque\n",
    "class linehistory:\n",
    "    def __init__(self, lines, histlen=3):\n",
    "        self.lines = lines\n",
    "        self.history = deque(maxlen=histlen)\n",
    "    def __iter__(self):\n",
    "        for lineno, line in enumerate(self.lines,1):\n",
    "            self.history.append((lineno, line))\n",
    "            yield line\n",
    "    def clear(self):\n",
    "        self.history.clear()"
   ]
  },
  {
   "cell_type": "markdown",
   "id": "05c2d521",
   "metadata": {},
   "source": [
    "## Получение среза итератора"
   ]
  },
  {
   "cell_type": "markdown",
   "id": "218bb9dc",
   "metadata": {},
   "source": [
    "**Задача:** \\\n",
    "Вы хотите получить срез данных, производимых итератором, но обычный оператор среза не работает.\n",
    "\n",
    "-------------"
   ]
  },
  {
   "cell_type": "markdown",
   "id": "b76a00b7",
   "metadata": {},
   "source": [
    "**Решение**"
   ]
  },
  {
   "cell_type": "markdown",
   "id": "f79cc5f9",
   "metadata": {},
   "source": [
    "Функция itertools.islice() отлично подходит для получения срезов генераторов\n",
    "и итераторов. "
   ]
  },
  {
   "cell_type": "code",
   "execution_count": 159,
   "id": "4983e4aa",
   "metadata": {},
   "outputs": [],
   "source": [
    "def count(n):\n",
    "    while True:\n",
    "        yield n\n",
    "        n+=1"
   ]
  },
  {
   "cell_type": "code",
   "execution_count": 160,
   "id": "7bb7299d",
   "metadata": {},
   "outputs": [],
   "source": [
    "c = count(0)"
   ]
  },
  {
   "cell_type": "code",
   "execution_count": 161,
   "id": "31ea9e71",
   "metadata": {},
   "outputs": [
    {
     "ename": "TypeError",
     "evalue": "'generator' object is not subscriptable",
     "output_type": "error",
     "traceback": [
      "\u001b[1;31m---------------------------------------------------------------------------\u001b[0m",
      "\u001b[1;31mTypeError\u001b[0m                                 Traceback (most recent call last)",
      "Cell \u001b[1;32mIn[161], line 1\u001b[0m\n\u001b[1;32m----> 1\u001b[0m c[\u001b[38;5;241m10\u001b[39m:\u001b[38;5;241m20\u001b[39m]\n",
      "\u001b[1;31mTypeError\u001b[0m: 'generator' object is not subscriptable"
     ]
    }
   ],
   "source": [
    "c[10:20]"
   ]
  },
  {
   "cell_type": "code",
   "execution_count": 162,
   "id": "21249945",
   "metadata": {},
   "outputs": [
    {
     "name": "stdout",
     "output_type": "stream",
     "text": [
      "10\n",
      "11\n",
      "12\n",
      "13\n",
      "14\n",
      "15\n",
      "16\n",
      "17\n",
      "18\n",
      "19\n"
     ]
    }
   ],
   "source": [
    "import itertools\n",
    "for x in itertools.islice(c, 10, 20):\n",
    "    print(x)"
   ]
  },
  {
   "cell_type": "markdown",
   "id": "71c1fe5f",
   "metadata": {},
   "source": [
    "## Пропуск первой части итерируемого объект"
   ]
  },
  {
   "cell_type": "markdown",
   "id": "488a430b",
   "metadata": {},
   "source": [
    "**Задача:** \\\n",
    "Вы хотите итерировать по элементам в последовательности, но первые несколько\n",
    "элементов вам неинтересны, и вы хотите их опустить.\n",
    "\n",
    "-------------"
   ]
  },
  {
   "cell_type": "markdown",
   "id": "2ed55f67",
   "metadata": {},
   "source": [
    "**Решение**"
   ]
  },
  {
   "cell_type": "markdown",
   "id": "7ae38098",
   "metadata": {},
   "source": [
    "В модуле itertools есть несколько функций, которые могут быть использованы для\n",
    "решения этой задачи. Первая  – itertools.dropwhile(). Чтобы использовать ее, вы\n",
    "предоставляете функцию и итерируемый объект. Возвращаемый итератор отбрасывает первые элементы в последовательности до тех пор, пока предоставленная\n",
    "функция возвращает True. А затем выдается вся оставшаяся последовательность."
   ]
  },
  {
   "cell_type": "code",
   "execution_count": null,
   "id": "076ccf62",
   "metadata": {},
   "outputs": [],
   "source": []
  },
  {
   "cell_type": "code",
   "execution_count": null,
   "id": "4fae8edc",
   "metadata": {},
   "outputs": [],
   "source": []
  },
  {
   "cell_type": "markdown",
   "id": "31275fd9",
   "metadata": {
    "heading_collapsed": true
   },
   "source": [
    "# Не сортировано"
   ]
  },
  {
   "cell_type": "markdown",
   "id": "2436656c",
   "metadata": {
    "hidden": true
   },
   "source": [
    "Обзор Python З.Х дополнен рассмотрением нового синтаксиса yield и raise;\n",
    "модели байт-кода__pycache__ ; пакетов пространств имен Python 3.3; режима с\n",
    "единым браузером в PyDoc; изменений в литералах и хранении; а также нового\n",
    "запускающего модуля Windows, появившегося в версии Python 3.3."
   ]
  },
  {
   "cell_type": "markdown",
   "id": "cce3e93b",
   "metadata": {
    "hidden": true
   },
   "source": [
    "• yield отправляет результирующий объект вызывающему коду, но запоминает место, где он остановился. В функциях, известных как генераторы, можно\n",
    "также использовать оператор yield, чтобы посылать обратно значение и предохранять их состояние, так что они смогут возобновлять работу позже для производства серии результатов с течением времени. Это еще одна сложная тема,\n",
    "которая раскрывается в последующих главах данной части книги"
   ]
  },
  {
   "cell_type": "markdown",
   "id": "7f2bd166",
   "metadata": {
    "hidden": true
   },
   "source": [
    "• Генераторные функции (доступные, начиная с версии Python 2.3) записываются как нормальные операторы def, но в них применяются операторы yield,\n",
    "чтобы возвращать по одному результату7 за раз, приостанавливать выполнение с\n",
    "сохранением состояния и возобновлять его между выдачами.\n"
   ]
  },
  {
   "cell_type": "markdown",
   "id": "4b169d7c",
   "metadata": {
    "hidden": true
   },
   "source": [
    "Основная разница между кодом генераторных и нормальных функций заключается\n",
    "в том, что генератор выдает значение, а не возвращает его — оператор yield приостанавливает функцию и отправляет значение обратно вызывающему коду, но сохраняет\n",
    "достаточный объем состояния, чтобы предоставить функции возможность возобновить работу с места, которое она покинула. При возобновлении функция продолжает\n",
    "выполнение сразу после последнего запуска yield. С точки зрения функции такой\n",
    "прием позволяет ее коду производить серию значений с течением вре"
   ]
  },
  {
   "cell_type": "code",
   "execution_count": 77,
   "id": "bf410ed8",
   "metadata": {
    "hidden": true
   },
   "outputs": [],
   "source": [
    "def gensquares (N):\n",
    "    for i in range(N):\n",
    "        yield i**2"
   ]
  },
  {
   "cell_type": "code",
   "execution_count": 71,
   "id": "afc2d594",
   "metadata": {
    "hidden": true
   },
   "outputs": [
    {
     "name": "stdout",
     "output_type": "stream",
     "text": [
      "0 : 1 : 4 : 9 : 16 : 25 : 36 : 49 : 64 : 81 : "
     ]
    }
   ],
   "source": [
    "for i in gensquares(10): # Возобновление выполнения функции\n",
    "    print(i, end=' : ') # Вывод последнего выданного значения"
   ]
  },
  {
   "cell_type": "code",
   "execution_count": 81,
   "id": "819d4e17",
   "metadata": {
    "hidden": true
   },
   "outputs": [],
   "source": [
    "def ups (line):\n",
    "    for sub in line.split(','):\n",
    "        yield sub.upper()"
   ]
  },
  {
   "cell_type": "code",
   "execution_count": 82,
   "id": "f5922186",
   "metadata": {
    "hidden": true
   },
   "outputs": [
    {
     "data": {
      "text/plain": [
       "('AAA', 'BBB', 'CCC')"
      ]
     },
     "execution_count": 82,
     "metadata": {},
     "output_type": "execute_result"
    }
   ],
   "source": [
    "tuple(ups('aaa,bbb,ccc'))"
   ]
  },
  {
   "cell_type": "code",
   "execution_count": 83,
   "id": "08c93828",
   "metadata": {
    "hidden": true
   },
   "outputs": [
    {
     "data": {
      "text/plain": [
       "{0: 'AAA', 1: 'BBB', 2: 'CCC'}"
      ]
     },
     "execution_count": 83,
     "metadata": {},
     "output_type": "execute_result"
    }
   ],
   "source": [
    "{i: s for (i, s) in enumerate (ups ('aaa,bbb,ccc')) }"
   ]
  },
  {
   "cell_type": "code",
   "execution_count": 84,
   "id": "c7ff859b",
   "metadata": {
    "hidden": true
   },
   "outputs": [],
   "source": [
    "def gen () :\n",
    "    for i in range (10) :\n",
    "        X = yield i\n",
    "    print(X)"
   ]
  },
  {
   "cell_type": "code",
   "execution_count": 89,
   "id": "55d4f9c9",
   "metadata": {
    "hidden": true
   },
   "outputs": [
    {
     "data": {
      "text/plain": [
       "3"
      ]
     },
     "execution_count": 89,
     "metadata": {},
     "output_type": "execute_result"
    }
   ],
   "source": [
    "G = gen()\n",
    "next(G)\n",
    "G.send(77)\n",
    "G.send(88)\n",
    "next(G)\n"
   ]
  },
  {
   "cell_type": "markdown",
   "id": "8b1bbc50",
   "metadata": {
    "hidden": true
   },
   "source": [
    "Метод send можно применять, например, для написания генератора, который\n",
    "разрешает прекращать свою работу за счет отправки кода завершения либо изменять\n",
    "направление путем передачи новой позиции в данных, обрабатываемых внутри генератора."
   ]
  },
  {
   "cell_type": "code",
   "execution_count": 90,
   "id": "dba0271e",
   "metadata": {
    "hidden": true
   },
   "outputs": [
    {
     "data": {
      "text/plain": [
       "<generator object <genexpr> at 0x000002193DE92670>"
      ]
     },
     "execution_count": 90,
     "metadata": {},
     "output_type": "execute_result"
    }
   ],
   "source": [
    "(х ** 2 for х in range(4)) # Генераторное выражение:\n",
    "# создает итерируемый объект"
   ]
  },
  {
   "cell_type": "markdown",
   "id": "f56e750f",
   "metadata": {
    "hidden": true
   },
   "source": [
    "**Генераторные функции:** Определение def, содержащее оператор yield, превращается в генераторную\n",
    "функцию. При вызове она возвращает новый объект генератора с автоматическим сохранением локальной области видимости и местоположения в коде, автоматически созданным методом__ iter__, который просто возвращает сам\n",
    "объект, и автоматически созданным методом__ next__(next в Python 2.Х),\n",
    "который запускает функцию или возобновляет ее выполнение с места, где она\n",
    "находилась в последний раз, и инициирует исключение Stopiteration, когда\n",
    "выпуск результатов завершен.\\\n",
    "**Генераторные выражения:** Выражение включения, помещенное в круглые скобки, известно как генераторное выражение. Оно возвращает новый объект генератора с таким же автоматически созданным интерфейсом в виде методов и сохранением состояния, как у\n",
    "генераторной функции, т.е. с методом__ iter__, просто возвращающим сам объект, и методом next__(next в Python 2.Х), который запускает неявный цикл\n",
    "или возобновляет его выполнение с места, где он находился в последний раз, и\n",
    "инициирует исключение Stop Iteration, когда выпуск результатов завершен."
   ]
  },
  {
   "cell_type": "code",
   "execution_count": 91,
   "id": "3d804b3a",
   "metadata": {
    "hidden": true
   },
   "outputs": [
    {
     "data": {
      "text/plain": [
       "['ssss', 'pppp', 'aaaa', 'mmmm']"
      ]
     },
     "execution_count": 91,
     "metadata": {},
     "output_type": "execute_result"
    }
   ],
   "source": [
    "def timesfour(S) : # Генераторная функция\n",
    "    for с in S:\n",
    "        yield с * 4\n",
    "G = timesfour ('spam')\n",
    "list(G)"
   ]
  },
  {
   "cell_type": "code",
   "execution_count": 94,
   "id": "9c45123e",
   "metadata": {
    "hidden": true
   },
   "outputs": [
    {
     "data": {
      "text/plain": [
       "'ААBBB'"
      ]
     },
     "execution_count": 94,
     "metadata": {},
     "output_type": "execute_result"
    }
   ],
   "source": [
    "line = 'аа bbb с'\n",
    "def gensub(line): # Функция\n",
    "    for x in line.split () :\n",
    "        if len (x) > 1:\n",
    "            yield x.upper()\n",
    "''. join (gensub (line))"
   ]
  },
  {
   "cell_type": "markdown",
   "id": "9f05424c",
   "metadata": {
    "hidden": true
   },
   "source": [
    "как только любая итерация доходит до завершения, все результаты\n",
    "оказываются израсходованными — чтобы начать сначала, нам придется создать новый\n",
    "генератор."
   ]
  },
  {
   "cell_type": "markdown",
   "id": "1628b9dd",
   "metadata": {
    "hidden": true
   },
   "source": [
    "**Все возможные перестановки**"
   ]
  },
  {
   "cell_type": "code",
   "execution_count": 95,
   "id": "0460d245",
   "metadata": {
    "hidden": true
   },
   "outputs": [],
   "source": [
    "def permute2(seq) :\n",
    "    if not seq:\n",
    "        yield seq\n",
    "    else:\n",
    "# Тасование любой последовательности: генератор\n",
    "# Пустая последовательность\n",
    "        for i in range (len (seq) ) :\n",
    "            rest = seq[:i] + seq[i+l:]\n",
    "            for x in permute2 (rest) :\n",
    "                yield seq[i:i+l] + x\n",
    "# Удаление текущего узла\n",
    "# Перестановка остальных\n",
    "# Добавление узла спереди"
   ]
  },
  {
   "cell_type": "markdown",
   "id": "508659f9",
   "metadata": {
    "hidden": true
   },
   "source": [
    "* **KISS** - Keep It Simple\"\n",
    "* **EIBTI** - explicit is better than\n",
    "implicit"
   ]
  },
  {
   "cell_type": "code",
   "execution_count": 103,
   "id": "8e1e3176",
   "metadata": {
    "hidden": true
   },
   "outputs": [
    {
     "ename": "TypeError",
     "evalue": "unsupported operand type(s) for +: 'int' and 'list'",
     "output_type": "error",
     "traceback": [
      "\u001b[1;31m---------------------------------------------------------------------------\u001b[0m",
      "\u001b[1;31mTypeError\u001b[0m                                 Traceback (most recent call last)",
      "Cell \u001b[1;32mIn[103], line 3\u001b[0m\n\u001b[0;32m      1\u001b[0m seq \u001b[38;5;241m=\u001b[39m \u001b[38;5;28mlist\u001b[39m (\u001b[38;5;28mrange\u001b[39m (\u001b[38;5;241m10\u001b[39m))\n\u001b[0;32m      2\u001b[0m p\u001b[38;5;241m=\u001b[39mpermute2(seq)\n\u001b[1;32m----> 3\u001b[0m \u001b[38;5;28mnext\u001b[39m(p)\n",
      "Cell \u001b[1;32mIn[95], line 8\u001b[0m, in \u001b[0;36mpermute2\u001b[1;34m(seq)\u001b[0m\n\u001b[0;32m      4\u001b[0m     \u001b[38;5;28;01melse\u001b[39;00m:\n\u001b[0;32m      5\u001b[0m \u001b[38;5;66;03m# Тасование любой последовательности: генератор\u001b[39;00m\n\u001b[0;32m      6\u001b[0m \u001b[38;5;66;03m# Пустая последовательность\u001b[39;00m\n\u001b[0;32m      7\u001b[0m         \u001b[38;5;28;01mfor\u001b[39;00m i \u001b[38;5;129;01min\u001b[39;00m \u001b[38;5;28mrange\u001b[39m (\u001b[38;5;28mlen\u001b[39m (seq) ) :\n\u001b[1;32m----> 8\u001b[0m             rest \u001b[38;5;241m=\u001b[39m seq[:i] \u001b[38;5;241m+\u001b[39m seq[i\u001b[38;5;241m+\u001b[39ml:]\n\u001b[0;32m      9\u001b[0m             \u001b[38;5;28;01mfor\u001b[39;00m x \u001b[38;5;129;01min\u001b[39;00m permute2 (rest) :\n\u001b[0;32m     10\u001b[0m                 \u001b[38;5;28;01myield\u001b[39;00m seq[i:i\u001b[38;5;241m+\u001b[39ml] \u001b[38;5;241m+\u001b[39m x\n",
      "\u001b[1;31mTypeError\u001b[0m: unsupported operand type(s) for +: 'int' and 'list'"
     ]
    }
   ],
   "source": [
    "seq = list (range (10))\n",
    "p=permute2(seq)\n",
    "next(p)"
   ]
  },
  {
   "cell_type": "code",
   "execution_count": 104,
   "id": "b87f5018",
   "metadata": {
    "hidden": true
   },
   "outputs": [
    {
     "data": {
      "text/plain": [
       "<generator object permute2 at 0x000002193DF41840>"
      ]
     },
     "execution_count": 104,
     "metadata": {},
     "output_type": "execute_result"
    }
   ],
   "source": [
    "p"
   ]
  },
  {
   "cell_type": "markdown",
   "id": "7a3417f3",
   "metadata": {
    "hidden": true
   },
   "source": [
    "Генератор – итератор, элементы которого можно итерировать только один раз\n",
    "\n",
    "Итератор – объект, который поддерживает функцию next(). Помнит о том, какой элемент будет браться следующим.\n",
    "\n",
    "Итерируемый объект – объект, который предоставляет возможность обойти поочередно свои элементы. Может быть преобразован к итератору."
   ]
  },
  {
   "cell_type": "code",
   "execution_count": null,
   "id": "a494f677",
   "metadata": {
    "hidden": true
   },
   "outputs": [],
   "source": []
  },
  {
   "cell_type": "markdown",
   "id": "fe51a507",
   "metadata": {},
   "source": [
    "# Задача"
   ]
  },
  {
   "cell_type": "code",
   "execution_count": 183,
   "id": "10e438cf",
   "metadata": {},
   "outputs": [],
   "source": [
    "class multifilter:\n",
    "    def judge_any(pos, neg):\n",
    "        # допускает элемент, если его допускает хотя бы одна функция (pos >= 1)\n",
    "        if pos>=1:\n",
    "            return True\n",
    "        \n",
    "    def judge_half(pos, neg):\n",
    "        # допускает элемент, если его допускает хотя бы половина фукнций (pos >= neg)\n",
    "        if pos>=neg:\n",
    "            return True\n",
    "        \n",
    "    def judge_all(pos, neg):\n",
    "        # допускает элемент, если его допускают все функции (neg == 0)\n",
    "        if neg==0:\n",
    "            return True\n",
    "\n",
    "    def __init__(self, iterable, *funcs, judge=judge_any):\n",
    "        self.iterable=iterable\n",
    "        self.funcs=funcs\n",
    "        self.judge=judge\n",
    "        self.pos=list(map(lambda x: sum([i(x) for i in funcs]),a))\n",
    "        self.neg=list(map(lambda x: len(funcs)-sum([i(x) for i in funcs]),a))\n",
    "        # iterable - исходная последовательность\n",
    "        # funcs - допускающие функции\n",
    "        # judge - решающая функция\n",
    "\n",
    "            \n",
    "    def __iter__(self):\n",
    "        # возвращает итератор по результирующей последовательности\n",
    "        for i in self.iterable:\n",
    "            pos=sum([f(i) for f in self.funcs])\n",
    "            neg=len(self.funcs)-pos\n",
    "            if self.judge(pos, neg):\n",
    "                    yield i"
   ]
  },
  {
   "cell_type": "code",
   "execution_count": null,
   "id": "89028c62",
   "metadata": {},
   "outputs": [],
   "source": [
    "class multifilter:\n",
    "    def judge_half(pos, neg):\n",
    "        # допускает элемент, если его допускает хотя бы половина фукнций (pos >= neg)\n",
    "\n",
    "    def judge_any(pos, neg):\n",
    "        # допускает элемент, если его допускает хотя бы одна функция (pos >= 1)\n",
    "\n",
    "    def judge_all(pos, neg):\n",
    "        # допускает элемент, если его допускают все функции (neg == 0)\n",
    "\n",
    "    def __init__(self, iterable, *funcs, judge=judge_any):\n",
    "        # iterable - исходная последовательность\n",
    "        # funcs - допускающие функции\n",
    "        # judge - решающая функция\n",
    "\n",
    "    def __iter__(self):\n",
    "        # возвращает итератор по результирующей последовательности"
   ]
  },
  {
   "cell_type": "code",
   "execution_count": 142,
   "id": "f3c4d3c7",
   "metadata": {},
   "outputs": [
    {
     "data": {
      "text/plain": [
       "[0,\n",
       " 3,\n",
       " 2,\n",
       " 2,\n",
       " 2,\n",
       " 2,\n",
       " 1,\n",
       " 3,\n",
       " 2,\n",
       " 2,\n",
       " 1,\n",
       " 3,\n",
       " 1,\n",
       " 3,\n",
       " 2,\n",
       " 1,\n",
       " 2,\n",
       " 3,\n",
       " 1,\n",
       " 3,\n",
       " 1,\n",
       " 2,\n",
       " 2,\n",
       " 3,\n",
       " 1,\n",
       " 2,\n",
       " 2,\n",
       " 2,\n",
       " 2,\n",
       " 3,\n",
       " 0]"
      ]
     },
     "execution_count": 142,
     "metadata": {},
     "output_type": "execute_result"
    }
   ],
   "source": [
    "list(map(lambda x: len(fs)-sum([i(x) for i in fs]),a))"
   ]
  },
  {
   "cell_type": "code",
   "execution_count": 175,
   "id": "b4797dc2",
   "metadata": {},
   "outputs": [],
   "source": [
    "fs=[mul2, mul3, mul5]"
   ]
  },
  {
   "cell_type": "code",
   "execution_count": 184,
   "id": "1114b4ed",
   "metadata": {},
   "outputs": [],
   "source": [
    "def mul2(x):\n",
    "    return x % 2 == 0\n",
    "\n",
    "def mul3(x):\n",
    "    return x % 3 == 0\n",
    "\n",
    "def mul5(x):\n",
    "    return x % 5 == 0"
   ]
  },
  {
   "cell_type": "code",
   "execution_count": 185,
   "id": "90335edb",
   "metadata": {},
   "outputs": [],
   "source": [
    "a = [i for i in range(31)] # [0, 1, 2, ... , 30]"
   ]
  },
  {
   "cell_type": "code",
   "execution_count": 186,
   "id": "2d1e1b9a",
   "metadata": {},
   "outputs": [
    {
     "name": "stdout",
     "output_type": "stream",
     "text": [
      "[0, 2, 3, 4, 5, 6, 8, 9, 10, 12, 14, 15, 16, 18, 20, 21, 22, 24, 25, 26, 27, 28, 30]\n"
     ]
    }
   ],
   "source": [
    "print(list(multifilter(a, mul2, mul3, mul5))) \n",
    "# [0, 2, 3, 4, 5, 6, 8, 9, 10, 12, 14, 15, 16, 18, 20, 21, 22, 24, 25, 26, 27, 28, 30]"
   ]
  },
  {
   "cell_type": "code",
   "execution_count": 187,
   "id": "5bb71072",
   "metadata": {},
   "outputs": [
    {
     "name": "stdout",
     "output_type": "stream",
     "text": [
      "[0, 6, 10, 12, 15, 18, 20, 24, 30]\n"
     ]
    }
   ],
   "source": [
    "print(list(multifilter(a, mul2, mul3, mul5, judge=multifilter.judge_half))) \n",
    "# [0, 6, 10, 12, 15, 18, 20, 24, 30]"
   ]
  },
  {
   "cell_type": "code",
   "execution_count": 188,
   "id": "48a1c764",
   "metadata": {},
   "outputs": [
    {
     "name": "stdout",
     "output_type": "stream",
     "text": [
      "[0, 30]\n"
     ]
    }
   ],
   "source": [
    "print(list(multifilter(a, mul2, mul3, mul5, judge=multifilter.judge_all))) \n",
    "# [0, 30]"
   ]
  },
  {
   "cell_type": "code",
   "execution_count": 190,
   "id": "6e6e30dd",
   "metadata": {},
   "outputs": [
    {
     "ename": "TypeError",
     "evalue": "'multifilter' object is not an iterator",
     "output_type": "error",
     "traceback": [
      "\u001b[1;31m---------------------------------------------------------------------------\u001b[0m",
      "\u001b[1;31mTypeError\u001b[0m                                 Traceback (most recent call last)",
      "Cell \u001b[1;32mIn[190], line 1\u001b[0m\n\u001b[1;32m----> 1\u001b[0m \u001b[38;5;28mnext\u001b[39m(multifilter(a, mul2, mul3, mul5, judge\u001b[38;5;241m=\u001b[39mmultifilter\u001b[38;5;241m.\u001b[39mjudge_all))\n",
      "\u001b[1;31mTypeError\u001b[0m: 'multifilter' object is not an iterator"
     ]
    }
   ],
   "source": [
    "next(multifilter(a, mul2, mul3, mul5, judge=multifilter.judge_all))"
   ]
  },
  {
   "cell_type": "code",
   "execution_count": null,
   "id": "c8750fdd",
   "metadata": {},
   "outputs": [],
   "source": []
  }
 ],
 "metadata": {
  "kernelspec": {
   "display_name": "Python 3 (ipykernel)",
   "language": "python",
   "name": "python3"
  },
  "language_info": {
   "codemirror_mode": {
    "name": "ipython",
    "version": 3
   },
   "file_extension": ".py",
   "mimetype": "text/x-python",
   "name": "python",
   "nbconvert_exporter": "python",
   "pygments_lexer": "ipython3",
   "version": "3.11.4"
  },
  "notify_time": "5",
  "toc": {
   "base_numbering": 1,
   "nav_menu": {},
   "number_sections": true,
   "sideBar": true,
   "skip_h1_title": false,
   "title_cell": "Table of Contents",
   "title_sidebar": "Contents",
   "toc_cell": false,
   "toc_position": {},
   "toc_section_display": true,
   "toc_window_display": false
  }
 },
 "nbformat": 4,
 "nbformat_minor": 5
}
